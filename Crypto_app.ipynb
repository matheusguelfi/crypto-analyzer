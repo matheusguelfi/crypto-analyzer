{
 "cells": [
  {
   "cell_type": "code",
   "execution_count": null,
   "id": "5df24ff3-cadf-4f03-a593-79fb674fa7a6",
   "metadata": {},
   "outputs": [],
   "source": [
    "import cryptocompare\n",
    "%matplotlib inline\n",
    "import requests\n",
    "import pandas as pd\n",
    "import hvplot.pandas\n",
    "import numpy as np\n",
    "import sqlalchemy\n",
    "import json\n"
   ]
  },
  {
   "cell_type": "code",
   "execution_count": null,
   "id": "af4288b7-5b4e-4f66-a74a-7e529d85a519",
   "metadata": {},
   "outputs": [],
   "source": []
  },
  {
   "cell_type": "code",
   "execution_count": null,
   "id": "a90d6157-a295-4825-88f9-25f5b7b08a2b",
   "metadata": {},
   "outputs": [],
   "source": [
    "def get_crypto_price(symbol, exchange, days):\n",
    "    api_key = 'ab6ad894d07d6bbe3fc934992e69a745c6a0cea542193cd07d90b120388a85a4'\n",
    "    api_url = f'https://min-api.cryptocompare.com/data/v2/histoday?fsym={symbol}&tsym={exchange}&limit={days}&api_key={api_key}'\n",
    "    raw = requests.get(api_url).json()\n",
    "    df = pd.DataFrame(raw['Data']['Data'])[['time', 'high', 'low', 'open','close']].set_index('time')\n",
    "    df.index = pd.to_datetime(df.index, unit = 's')\n",
    "    return df"
   ]
  },
  {
   "cell_type": "code",
   "execution_count": null,
   "id": "6891db01-cd68-4dd0-be26-bb4c8a5cfb47",
   "metadata": {},
   "outputs": [],
   "source": [
    "api_url2= f' https://cryptofees.info//api/v1/fees'\n",
    "response = requests.get(api_url2).json()\n",
    "#print(json.dumps(response, indent=4, sort_keys=True))"
   ]
  },
  {
   "cell_type": "code",
   "execution_count": null,
   "id": "37cc9e93-0c42-45a3-9767-6882a9bd40a3",
   "metadata": {
    "tags": []
   },
   "outputs": [],
   "source": [
    "print('BITCOIN')\n",
    "    "
   ]
  },
  {
   "cell_type": "code",
   "execution_count": null,
   "id": "564d4bfb-10da-4e9f-b46f-2ff393b62be8",
   "metadata": {
    "tags": []
   },
   "outputs": [],
   "source": []
  },
  {
   "cell_type": "code",
   "execution_count": null,
   "id": "6a45a8b1-533c-4910-86a8-fc566cca1d84",
   "metadata": {},
   "outputs": [],
   "source": [
    "price = cryptocompare.get_price('BTC', 'USD')\n",
    "print(price)"
   ]
  },
  {
   "cell_type": "code",
   "execution_count": null,
   "id": "f68739bd-005d-45a6-ba61-a981c05b75ec",
   "metadata": {},
   "outputs": [],
   "source": [
    "BTC = get_crypto_price('BTC', 'USD', 15)\n",
    "BTC"
   ]
  },
  {
   "cell_type": "code",
   "execution_count": null,
   "id": "a36168d6-b8c3-4d7d-9534-55a003c9cae1",
   "metadata": {},
   "outputs": [],
   "source": [
    "BTC.hvplot(figsize=(10,8), title= 'BTC')"
   ]
  },
  {
   "cell_type": "code",
   "execution_count": null,
   "id": "2ac2a0cc-99a1-4687-bb34-0373ddd52193",
   "metadata": {},
   "outputs": [],
   "source": [
    "BTC_info= response['protocols'][6]\n",
    "\n",
    "print(f\" Coin Name: {BTC_info['name']}\")\n",
    "print(f\" Description: {BTC_info['description']}\")\n",
    "print(f\" Fee Description: {BTC_info['feeDescription']}\")\n",
    "\n",
    "\n",
    "\n",
    "\n",
    "BTC_df= pd.DataFrame(response['protocols'][6]['fees']).set_index('date')\n",
    "BTC_df.index = pd.to_datetime(BTC_df.index)\n",
    "#'${:, .2f}'.format to roud decimals and dollar$\n",
    "BTC_df['fee'] = BTC_df['fee'].map('${:,.2f}'.format)\n",
    "print(BTC_df)"
   ]
  },
  {
   "cell_type": "code",
   "execution_count": null,
   "id": "5b5dce7d-7636-4903-a18e-a337395d5835",
   "metadata": {},
   "outputs": [],
   "source": [
    "\n"
   ]
  },
  {
   "cell_type": "code",
   "execution_count": null,
   "id": "2063f325-9332-4a58-bacf-2c80301e3f1c",
   "metadata": {},
   "outputs": [],
   "source": []
  },
  {
   "cell_type": "code",
   "execution_count": null,
   "id": "c95f9e71-c0bf-4850-a28e-d3074dbd4054",
   "metadata": {},
   "outputs": [],
   "source": []
  },
  {
   "cell_type": "code",
   "execution_count": null,
   "id": "97abcb73-ec0f-40e1-a18a-c4bc4243293b",
   "metadata": {},
   "outputs": [],
   "source": [
    "\n"
   ]
  },
  {
   "cell_type": "code",
   "execution_count": null,
   "id": "c1eb7844-6a90-4277-882a-7766ff6ac0ce",
   "metadata": {},
   "outputs": [],
   "source": [
    "print(\"ETHEREUM\")\n",
    "price = cryptocompare.get_price('eth', 'USD')\n",
    "print (price)\n",
    "\n",
    "ETH = get_crypto_price('ETH', 'USD', 15)\n",
    "ETH"
   ]
  },
  {
   "cell_type": "code",
   "execution_count": null,
   "id": "4fc9b9dd-b7f9-4491-8271-ce8652c7706f",
   "metadata": {},
   "outputs": [],
   "source": [
    "ETH.hvplot(figsize=(10,8), title= 'ETHEREUM')"
   ]
  },
  {
   "cell_type": "code",
   "execution_count": null,
   "id": "75a65db8-7e4a-46f1-8bdf-d1438edc7a7f",
   "metadata": {},
   "outputs": [],
   "source": [
    "ETHER= response['protocols'][0]\n",
    "print(f\" Blockchain is $ {ETHER['blockchain']}\")\n",
    "\n",
    "print(f\" Coin Name: {ETHER['name']}\")\n",
    "print(f\" Description: {ETHER['description']}\")\n",
    "print(f\" Fee Description: {ETHER['feeDescription']}\")\n",
    "\n",
    "\n",
    "\n",
    "\n",
    "ETH_df= pd.DataFrame(response['protocols'][0]['fees']).set_index('date')\n",
    "ETH_df.index = pd.to_datetime(ETH_df.index)\n",
    "#'${:, .2f}'.format to roud decimals and dollar$\n",
    "ETH_df['fee'] = ETH_df['fee'].map('${:,.2f}'.format)\n",
    "print(ETH_df)"
   ]
  },
  {
   "cell_type": "code",
   "execution_count": null,
   "id": "009415a3-20ab-4c75-b841-aed48a1e58a4",
   "metadata": {},
   "outputs": [],
   "source": [
    "print(\"UNISWAP\")\n",
    "price = cryptocompare.get_price('UNI', 'USD')\n",
    "print (price)\n",
    "\n",
    "UNI = get_crypto_price('UNI', 'USD', 15)\n",
    "UNI"
   ]
  },
  {
   "cell_type": "code",
   "execution_count": null,
   "id": "a4d56aeb-6ef6-4777-b0d6-2b1fb3fc39a7",
   "metadata": {},
   "outputs": [],
   "source": [
    "UNI.hvplot(figsize=(10,8), title= 'UNISWAP')"
   ]
  },
  {
   "cell_type": "code",
   "execution_count": null,
   "id": "1d7dbcdd-2e5b-4404-99e4-ae354083f4a2",
   "metadata": {},
   "outputs": [],
   "source": [
    "UNITOKEN= response['protocols'][1]\n",
    "print(f\" Blockchain is $ {UNITOKEN['blockchain']}\")\n",
    "\n",
    "print(f\" Coin Name: {UNITOKEN['name']}\")\n",
    "print(f\" Description: {UNITOKEN['description']}\")\n",
    "print(f\" Fee Description: {UNITOKEN['feeDescription']}\")\n",
    "\n",
    "\n",
    "\n",
    "\n",
    "UNI_df= pd.DataFrame(response['protocols'][1]['fees']).set_index('date')\n",
    "UNI_df.index = pd.to_datetime(UNI_df.index)\n",
    "#'${:, .2f}'.format to roud decimals and dollar$\n",
    "UNI_df['fee'] = UNI_df['fee'].map('${:,.2f}'.format)\n",
    "print(UNI_df)"
   ]
  },
  {
   "cell_type": "code",
   "execution_count": null,
   "id": "251f0453-3ba3-457c-81b5-fbefe10f7ffe",
   "metadata": {},
   "outputs": [],
   "source": [
    "print(\"BINANCE SMART CHAIN\")\n",
    "price = cryptocompare.get_price('BNB', 'USD')\n",
    "print (price)\n",
    "\n",
    "bnb = get_crypto_price('BNB', 'USD', 15)\n",
    "bnb"
   ]
  },
  {
   "cell_type": "code",
   "execution_count": null,
   "id": "6fdce4b9-92c4-40db-9ac7-63893ad895ad",
   "metadata": {},
   "outputs": [],
   "source": [
    "bnb.hvplot(figsize=(10,8), title= 'BINANCE')"
   ]
  },
  {
   "cell_type": "code",
   "execution_count": null,
   "id": "b801bf2a-eeee-41dd-af1e-4f464c6511d0",
   "metadata": {},
   "outputs": [],
   "source": [
    "BNB= response['protocols'][2]\n",
    "print(f\" Blockchain is $ {BNB['blockchain']}\")\n",
    "\n",
    "print(f\" Coin Name: {BNB['name']}\")\n",
    "print(f\" Description: {BNB['description']}\")\n",
    "print(f\" Fee Description: {BNB['feeDescription']}\")\n",
    "\n",
    "\n",
    "\n",
    "\n",
    "BNB_df= pd.DataFrame(response['protocols'][2]['fees']).set_index('date')\n",
    "BNB_df.index = pd.to_datetime(BNB_df.index)\n",
    "#'${:, .2f}'.format to roud decimals and dollar$\n",
    "BNB_df['fee'] = BNB_df['fee'].map('${:,.2f}'.format)\n",
    "print(BNB_df)"
   ]
  },
  {
   "cell_type": "code",
   "execution_count": 116,
   "id": "a136f26d-2b06-47a9-97a7-227c75bf181e",
   "metadata": {},
   "outputs": [
    {
     "name": "stdout",
     "output_type": "stream",
     "text": [
      "AAVE\n",
      "{'AAVE': {'USD': 256.06}}\n"
     ]
    },
    {
     "data": {
      "text/html": [
       "<div>\n",
       "<style scoped>\n",
       "    .dataframe tbody tr th:only-of-type {\n",
       "        vertical-align: middle;\n",
       "    }\n",
       "\n",
       "    .dataframe tbody tr th {\n",
       "        vertical-align: top;\n",
       "    }\n",
       "\n",
       "    .dataframe thead th {\n",
       "        text-align: right;\n",
       "    }\n",
       "</style>\n",
       "<table border=\"1\" class=\"dataframe\">\n",
       "  <thead>\n",
       "    <tr style=\"text-align: right;\">\n",
       "      <th></th>\n",
       "      <th>high</th>\n",
       "      <th>low</th>\n",
       "      <th>open</th>\n",
       "      <th>close</th>\n",
       "    </tr>\n",
       "    <tr>\n",
       "      <th>time</th>\n",
       "      <th></th>\n",
       "      <th></th>\n",
       "      <th></th>\n",
       "      <th></th>\n",
       "    </tr>\n",
       "  </thead>\n",
       "  <tbody>\n",
       "    <tr>\n",
       "      <th>2021-07-06</th>\n",
       "      <td>347.24</td>\n",
       "      <td>308.02</td>\n",
       "      <td>308.09</td>\n",
       "      <td>316.81</td>\n",
       "    </tr>\n",
       "    <tr>\n",
       "      <th>2021-07-07</th>\n",
       "      <td>331.42</td>\n",
       "      <td>310.82</td>\n",
       "      <td>316.81</td>\n",
       "      <td>314.93</td>\n",
       "    </tr>\n",
       "    <tr>\n",
       "      <th>2021-07-08</th>\n",
       "      <td>315.39</td>\n",
       "      <td>276.56</td>\n",
       "      <td>314.93</td>\n",
       "      <td>291.14</td>\n",
       "    </tr>\n",
       "    <tr>\n",
       "      <th>2021-07-09</th>\n",
       "      <td>314.37</td>\n",
       "      <td>276.02</td>\n",
       "      <td>291.14</td>\n",
       "      <td>303.50</td>\n",
       "    </tr>\n",
       "    <tr>\n",
       "      <th>2021-07-10</th>\n",
       "      <td>311.63</td>\n",
       "      <td>288.64</td>\n",
       "      <td>303.50</td>\n",
       "      <td>294.82</td>\n",
       "    </tr>\n",
       "    <tr>\n",
       "      <th>2021-07-11</th>\n",
       "      <td>310.23</td>\n",
       "      <td>286.71</td>\n",
       "      <td>294.82</td>\n",
       "      <td>304.54</td>\n",
       "    </tr>\n",
       "    <tr>\n",
       "      <th>2021-07-12</th>\n",
       "      <td>321.67</td>\n",
       "      <td>291.42</td>\n",
       "      <td>304.54</td>\n",
       "      <td>296.91</td>\n",
       "    </tr>\n",
       "    <tr>\n",
       "      <th>2021-07-13</th>\n",
       "      <td>297.13</td>\n",
       "      <td>267.78</td>\n",
       "      <td>296.91</td>\n",
       "      <td>271.30</td>\n",
       "    </tr>\n",
       "    <tr>\n",
       "      <th>2021-07-14</th>\n",
       "      <td>285.46</td>\n",
       "      <td>252.29</td>\n",
       "      <td>271.30</td>\n",
       "      <td>279.40</td>\n",
       "    </tr>\n",
       "    <tr>\n",
       "      <th>2021-07-15</th>\n",
       "      <td>288.14</td>\n",
       "      <td>265.46</td>\n",
       "      <td>279.40</td>\n",
       "      <td>271.87</td>\n",
       "    </tr>\n",
       "    <tr>\n",
       "      <th>2021-07-16</th>\n",
       "      <td>279.65</td>\n",
       "      <td>252.69</td>\n",
       "      <td>271.87</td>\n",
       "      <td>253.33</td>\n",
       "    </tr>\n",
       "    <tr>\n",
       "      <th>2021-07-17</th>\n",
       "      <td>258.18</td>\n",
       "      <td>246.17</td>\n",
       "      <td>253.33</td>\n",
       "      <td>253.00</td>\n",
       "    </tr>\n",
       "    <tr>\n",
       "      <th>2021-07-18</th>\n",
       "      <td>267.82</td>\n",
       "      <td>251.16</td>\n",
       "      <td>253.00</td>\n",
       "      <td>254.22</td>\n",
       "    </tr>\n",
       "    <tr>\n",
       "      <th>2021-07-19</th>\n",
       "      <td>255.63</td>\n",
       "      <td>233.41</td>\n",
       "      <td>254.22</td>\n",
       "      <td>238.07</td>\n",
       "    </tr>\n",
       "    <tr>\n",
       "      <th>2021-07-20</th>\n",
       "      <td>242.07</td>\n",
       "      <td>212.91</td>\n",
       "      <td>238.07</td>\n",
       "      <td>223.33</td>\n",
       "    </tr>\n",
       "    <tr>\n",
       "      <th>2021-07-21</th>\n",
       "      <td>256.86</td>\n",
       "      <td>217.12</td>\n",
       "      <td>223.33</td>\n",
       "      <td>256.06</td>\n",
       "    </tr>\n",
       "  </tbody>\n",
       "</table>\n",
       "</div>"
      ],
      "text/plain": [
       "              high     low    open   close\n",
       "time                                      \n",
       "2021-07-06  347.24  308.02  308.09  316.81\n",
       "2021-07-07  331.42  310.82  316.81  314.93\n",
       "2021-07-08  315.39  276.56  314.93  291.14\n",
       "2021-07-09  314.37  276.02  291.14  303.50\n",
       "2021-07-10  311.63  288.64  303.50  294.82\n",
       "2021-07-11  310.23  286.71  294.82  304.54\n",
       "2021-07-12  321.67  291.42  304.54  296.91\n",
       "2021-07-13  297.13  267.78  296.91  271.30\n",
       "2021-07-14  285.46  252.29  271.30  279.40\n",
       "2021-07-15  288.14  265.46  279.40  271.87\n",
       "2021-07-16  279.65  252.69  271.87  253.33\n",
       "2021-07-17  258.18  246.17  253.33  253.00\n",
       "2021-07-18  267.82  251.16  253.00  254.22\n",
       "2021-07-19  255.63  233.41  254.22  238.07\n",
       "2021-07-20  242.07  212.91  238.07  223.33\n",
       "2021-07-21  256.86  217.12  223.33  256.06"
      ]
     },
     "execution_count": 116,
     "metadata": {},
     "output_type": "execute_result"
    }
   ],
   "source": [
    "print(\"AAVE\")\n",
    "price = cryptocompare.get_price('AAVE', 'USD')\n",
    "print (price)\n",
    "\n",
    "AAVE = get_crypto_price('AAVE', 'USD', 15)\n",
    "AAVE"
   ]
  },
  {
   "cell_type": "code",
   "execution_count": 115,
   "id": "e622da51-31e2-4b56-b5bc-88a48947cdb6",
   "metadata": {},
   "outputs": [
    {
     "data": {},
     "metadata": {},
     "output_type": "display_data"
    },
    {
     "data": {
      "application/vnd.holoviews_exec.v0+json": "",
      "text/html": [
       "<div id='8127'>\n",
       "\n",
       "\n",
       "\n",
       "\n",
       "\n",
       "  <div class=\"bk-root\" id=\"1c7857ad-54da-4f44-9ef0-89d67644b111\" data-root-id=\"8127\"></div>\n",
       "</div>\n",
       "<script type=\"application/javascript\">(function(root) {\n",
       "  function embed_document(root) {\n",
       "    var docs_json = {\"0e5ea0ef-1d95-404d-84ce-2e99e18540aa\":{\"defs\":[],\"roots\":{\"references\":[{\"attributes\":{\"axis_label\":\"time\",\"formatter\":{\"id\":\"8165\"},\"major_label_policy\":{\"id\":\"8167\"},\"ticker\":{\"id\":\"8145\"}},\"id\":\"8144\",\"type\":\"DatetimeAxis\"},{\"attributes\":{},\"id\":\"8156\",\"type\":\"ResetTool\"},{\"attributes\":{},\"id\":\"8222\",\"type\":\"UnionRenderers\"},{\"attributes\":{\"line_alpha\":0.1,\"line_color\":\"#e5ae38\",\"line_width\":2,\"x\":{\"field\":\"time\"},\"y\":{\"field\":\"value\"}},\"id\":\"8242\",\"type\":\"Line\"},{\"attributes\":{\"line_color\":\"#6d904f\",\"line_width\":2,\"x\":{\"field\":\"time\"},\"y\":{\"field\":\"value\"}},\"id\":\"8311\",\"type\":\"Line\"},{\"attributes\":{\"line_color\":\"#6d904f\",\"line_width\":2,\"x\":{\"field\":\"time\"},\"y\":{\"field\":\"value\"}},\"id\":\"8277\",\"type\":\"Line\"},{\"attributes\":{},\"id\":\"8275\",\"type\":\"Selection\"},{\"attributes\":{\"label\":{\"value\":\"open\"},\"renderers\":[{\"id\":\"8244\"}]},\"id\":\"8272\",\"type\":\"LegendItem\"},{\"attributes\":{\"line_color\":\"#e5ae38\",\"line_width\":2,\"x\":{\"field\":\"time\"},\"y\":{\"field\":\"value\"}},\"id\":\"8273\",\"type\":\"Line\"},{\"attributes\":{},\"id\":\"8142\",\"type\":\"LinearScale\"},{\"attributes\":{\"click_policy\":\"mute\",\"items\":[{\"id\":\"8202\"},{\"id\":\"8236\"},{\"id\":\"8272\"},{\"id\":\"8310\"}],\"location\":[0,0],\"title\":\"Variable\"},\"id\":\"8201\",\"type\":\"Legend\"},{\"attributes\":{\"callback\":null,\"formatters\":{\"@{time}\":\"datetime\"},\"renderers\":[{\"id\":\"8177\"},{\"id\":\"8210\"},{\"id\":\"8244\"},{\"id\":\"8280\"}],\"tags\":[\"hv_created\"],\"tooltips\":[[\"Variable\",\"@{Variable}\"],[\"time\",\"@{time}{%F %T}\"],[\"value\",\"@{value}\"]]},\"id\":\"8131\",\"type\":\"HoverTool\"},{\"attributes\":{\"line_alpha\":0.1,\"line_color\":\"#30a2da\",\"line_width\":2,\"x\":{\"field\":\"time\"},\"y\":{\"field\":\"value\"}},\"id\":\"8175\",\"type\":\"Line\"},{\"attributes\":{\"line_color\":\"#fc4f30\",\"line_width\":2,\"x\":{\"field\":\"time\"},\"y\":{\"field\":\"value\"}},\"id\":\"8207\",\"type\":\"Line\"},{\"attributes\":{},\"id\":\"8167\",\"type\":\"AllLabels\"},{\"attributes\":{\"line_alpha\":0.1,\"line_color\":\"#fc4f30\",\"line_width\":2,\"x\":{\"field\":\"time\"},\"y\":{\"field\":\"value\"}},\"id\":\"8208\",\"type\":\"Line\"},{\"attributes\":{},\"id\":\"8168\",\"type\":\"BasicTickFormatter\"},{\"attributes\":{\"line_alpha\":0.2,\"line_color\":\"#fc4f30\",\"line_width\":2,\"x\":{\"field\":\"time\"},\"y\":{\"field\":\"value\"}},\"id\":\"8209\",\"type\":\"Line\"},{\"attributes\":{\"margin\":[5,5,5,5],\"name\":\"HSpacer10769\",\"sizing_mode\":\"stretch_width\"},\"id\":\"8564\",\"type\":\"Spacer\"},{\"attributes\":{\"data_source\":{\"id\":\"8204\"},\"glyph\":{\"id\":\"8207\"},\"hover_glyph\":null,\"muted_glyph\":{\"id\":\"8209\"},\"nonselection_glyph\":{\"id\":\"8208\"},\"selection_glyph\":{\"id\":\"8237\"},\"view\":{\"id\":\"8211\"}},\"id\":\"8210\",\"type\":\"GlyphRenderer\"},{\"attributes\":{\"axis_label\":\"\",\"formatter\":{\"id\":\"8168\"},\"major_label_policy\":{\"id\":\"8170\"},\"ticker\":{\"id\":\"8149\"}},\"id\":\"8148\",\"type\":\"LinearAxis\"},{\"attributes\":{\"bottom_units\":\"screen\",\"fill_alpha\":0.5,\"fill_color\":\"lightgrey\",\"left_units\":\"screen\",\"level\":\"overlay\",\"line_alpha\":1.0,\"line_color\":\"black\",\"line_dash\":[4,4],\"line_width\":2,\"right_units\":\"screen\",\"syncable\":false,\"top_units\":\"screen\"},\"id\":\"8157\",\"type\":\"BoxAnnotation\"},{\"attributes\":{},\"id\":\"8258\",\"type\":\"UnionRenderers\"},{\"attributes\":{\"base\":60,\"mantissas\":[1,2,5,10,15,20,30],\"max_interval\":1800000.0,\"min_interval\":1000.0,\"num_minor_ticks\":0},\"id\":\"8190\",\"type\":\"AdaptiveTicker\"},{\"attributes\":{},\"id\":\"8140\",\"type\":\"LinearScale\"},{\"attributes\":{\"label\":{\"value\":\"low\"},\"renderers\":[{\"id\":\"8210\"}]},\"id\":\"8236\",\"type\":\"LegendItem\"},{\"attributes\":{\"base\":24,\"mantissas\":[1,2,4,6,8,12],\"max_interval\":43200000.0,\"min_interval\":3600000.0,\"num_minor_ticks\":0},\"id\":\"8191\",\"type\":\"AdaptiveTicker\"},{\"attributes\":{\"line_alpha\":0.1,\"line_color\":\"#6d904f\",\"line_width\":2,\"x\":{\"field\":\"time\"},\"y\":{\"field\":\"value\"}},\"id\":\"8278\",\"type\":\"Line\"},{\"attributes\":{\"days\":[1,2,3,4,5,6,7,8,9,10,11,12,13,14,15,16,17,18,19,20,21,22,23,24,25,26,27,28,29,30,31]},\"id\":\"8192\",\"type\":\"DaysTicker\"},{\"attributes\":{\"source\":{\"id\":\"8204\"}},\"id\":\"8211\",\"type\":\"CDSView\"},{\"attributes\":{\"line_alpha\":0.2,\"line_color\":\"#e5ae38\",\"line_width\":2,\"x\":{\"field\":\"time\"},\"y\":{\"field\":\"value\"}},\"id\":\"8243\",\"type\":\"Line\"},{\"attributes\":{\"axis\":{\"id\":\"8144\"},\"grid_line_color\":null,\"ticker\":null},\"id\":\"8147\",\"type\":\"Grid\"},{\"attributes\":{},\"id\":\"8205\",\"type\":\"Selection\"},{\"attributes\":{\"source\":{\"id\":\"8238\"}},\"id\":\"8245\",\"type\":\"CDSView\"},{\"attributes\":{\"end\":360.673,\"reset_end\":360.673,\"reset_start\":199.477,\"start\":199.477,\"tags\":[[[\"value\",\"value\",null]]]},\"id\":\"8130\",\"type\":\"Range1d\"},{\"attributes\":{\"children\":[{\"id\":\"8128\"},{\"id\":\"8135\"},{\"id\":\"8564\"}],\"margin\":[0,0,0,0],\"name\":\"Row10764\",\"tags\":[\"embedded\"]},\"id\":\"8127\",\"type\":\"Row\"},{\"attributes\":{\"line_color\":\"#30a2da\",\"line_width\":2,\"x\":{\"field\":\"time\"},\"y\":{\"field\":\"value\"}},\"id\":\"8203\",\"type\":\"Line\"},{\"attributes\":{\"months\":[0,6]},\"id\":\"8199\",\"type\":\"MonthsTicker\"},{\"attributes\":{\"label\":{\"value\":\"high\"},\"renderers\":[{\"id\":\"8177\"}]},\"id\":\"8202\",\"type\":\"LegendItem\"},{\"attributes\":{\"days\":[1,8,15,22]},\"id\":\"8194\",\"type\":\"DaysTicker\"},{\"attributes\":{\"data\":{\"Variable\":[\"close\",\"close\",\"close\",\"close\",\"close\",\"close\",\"close\",\"close\",\"close\",\"close\",\"close\",\"close\",\"close\",\"close\",\"close\",\"close\"],\"time\":{\"__ndarray__\":\"AACA1JGnd0IAAEA65Kd3QgAAAKA2qHdCAADABYmod0IAAIBr26h3QgAAQNEtqXdCAAAAN4Cpd0IAAMCc0ql3QgAAgAIlqndCAABAaHeqd0IAAADOyap3QgAAwDMcq3dCAACAmW6rd0IAAED/wKt3QgAAAGUTrHdCAADAymWsd0I=\",\"dtype\":\"float64\",\"order\":\"little\",\"shape\":[16]},\"value\":{\"__ndarray__\":\"KVyPwvXMc0B7FK5H4a5zQArXo3A9MnJAAAAAAAD4ckCF61G4Hm1yQHE9CtejCHNAw/UoXI+OckDNzMzMzPRwQGZmZmZmdnFAUrgehev9cEDD9Shcj6pvQAAAAAAAoG9A16NwPQrHb0AK16NwPcJtQMP1KFyP6mtAj8L1KFzvb0A=\",\"dtype\":\"float64\",\"order\":\"little\",\"shape\":[16]}},\"selected\":{\"id\":\"8275\"},\"selection_policy\":{\"id\":\"8296\"}},\"id\":\"8274\",\"type\":\"ColumnDataSource\"},{\"attributes\":{\"num_minor_ticks\":5,\"tickers\":[{\"id\":\"8189\"},{\"id\":\"8190\"},{\"id\":\"8191\"},{\"id\":\"8192\"},{\"id\":\"8193\"},{\"id\":\"8194\"},{\"id\":\"8195\"},{\"id\":\"8196\"},{\"id\":\"8197\"},{\"id\":\"8198\"},{\"id\":\"8199\"},{\"id\":\"8200\"}]},\"id\":\"8145\",\"type\":\"DatetimeTicker\"},{\"attributes\":{\"data_source\":{\"id\":\"8274\"},\"glyph\":{\"id\":\"8277\"},\"hover_glyph\":null,\"muted_glyph\":{\"id\":\"8279\"},\"nonselection_glyph\":{\"id\":\"8278\"},\"selection_glyph\":{\"id\":\"8311\"},\"view\":{\"id\":\"8281\"}},\"id\":\"8280\",\"type\":\"GlyphRenderer\"},{\"attributes\":{},\"id\":\"8172\",\"type\":\"Selection\"},{\"attributes\":{\"line_color\":\"#fc4f30\",\"line_width\":2,\"x\":{\"field\":\"time\"},\"y\":{\"field\":\"value\"}},\"id\":\"8237\",\"type\":\"Line\"},{\"attributes\":{\"text\":\"AAVE\",\"text_color\":\"black\",\"text_font_size\":\"12pt\"},\"id\":\"8136\",\"type\":\"Title\"},{\"attributes\":{\"months\":[0,2,4,6,8,10]},\"id\":\"8197\",\"type\":\"MonthsTicker\"},{\"attributes\":{\"below\":[{\"id\":\"8144\"}],\"center\":[{\"id\":\"8147\"},{\"id\":\"8151\"}],\"height\":300,\"left\":[{\"id\":\"8148\"}],\"margin\":[5,5,5,5],\"min_border_bottom\":10,\"min_border_left\":10,\"min_border_right\":10,\"min_border_top\":10,\"renderers\":[{\"id\":\"8177\"},{\"id\":\"8210\"},{\"id\":\"8244\"},{\"id\":\"8280\"}],\"right\":[{\"id\":\"8201\"}],\"sizing_mode\":\"fixed\",\"title\":{\"id\":\"8136\"},\"toolbar\":{\"id\":\"8158\"},\"width\":700,\"x_range\":{\"id\":\"8129\"},\"x_scale\":{\"id\":\"8140\"},\"y_range\":{\"id\":\"8130\"},\"y_scale\":{\"id\":\"8142\"}},\"id\":\"8135\",\"subtype\":\"Figure\",\"type\":\"Plot\"},{\"attributes\":{\"line_alpha\":0.2,\"line_color\":\"#6d904f\",\"line_width\":2,\"x\":{\"field\":\"time\"},\"y\":{\"field\":\"value\"}},\"id\":\"8279\",\"type\":\"Line\"},{\"attributes\":{\"months\":[0,4,8]},\"id\":\"8198\",\"type\":\"MonthsTicker\"},{\"attributes\":{\"overlay\":{\"id\":\"8157\"}},\"id\":\"8155\",\"type\":\"BoxZoomTool\"},{\"attributes\":{\"source\":{\"id\":\"8274\"}},\"id\":\"8281\",\"type\":\"CDSView\"},{\"attributes\":{},\"id\":\"8187\",\"type\":\"UnionRenderers\"},{\"attributes\":{\"days\":[1,4,7,10,13,16,19,22,25,28]},\"id\":\"8193\",\"type\":\"DaysTicker\"},{\"attributes\":{\"source\":{\"id\":\"8171\"}},\"id\":\"8178\",\"type\":\"CDSView\"},{\"attributes\":{\"label\":{\"value\":\"close\"},\"renderers\":[{\"id\":\"8280\"}]},\"id\":\"8310\",\"type\":\"LegendItem\"},{\"attributes\":{\"line_color\":\"#e5ae38\",\"line_width\":2,\"x\":{\"field\":\"time\"},\"y\":{\"field\":\"value\"}},\"id\":\"8241\",\"type\":\"Line\"},{\"attributes\":{\"data\":{\"Variable\":[\"high\",\"high\",\"high\",\"high\",\"high\",\"high\",\"high\",\"high\",\"high\",\"high\",\"high\",\"high\",\"high\",\"high\",\"high\",\"high\"],\"time\":{\"__ndarray__\":\"AACA1JGnd0IAAEA65Kd3QgAAAKA2qHdCAADABYmod0IAAIBr26h3QgAAQNEtqXdCAAAAN4Cpd0IAAMCc0ql3QgAAgAIlqndCAABAaHeqd0IAAADOyap3QgAAwDMcq3dCAACAmW6rd0IAAED/wKt3QgAAAGUTrHdCAADAymWsd0I=\",\"dtype\":\"float64\",\"order\":\"little\",\"shape\":[16]},\"value\":{\"__ndarray__\":\"pHA9CtezdUAfhetRuLZ0QArXo3A9tnNAUrgeheulc0CuR+F6FHpzQEjhehSuY3NAH4XrUbgadECuR+F6FJJyQI/C9Shc13FACtejcD0CckBmZmZmZnpxQHsUrkfhInBAhetRuB69cEBcj8L1KPRvQArXo3A9Qm5AAAAAAAAEcEA=\",\"dtype\":\"float64\",\"order\":\"little\",\"shape\":[16]}},\"selected\":{\"id\":\"8172\"},\"selection_policy\":{\"id\":\"8187\"}},\"id\":\"8171\",\"type\":\"ColumnDataSource\"},{\"attributes\":{},\"id\":\"8154\",\"type\":\"WheelZoomTool\"},{\"attributes\":{\"data_source\":{\"id\":\"8171\"},\"glyph\":{\"id\":\"8174\"},\"hover_glyph\":null,\"muted_glyph\":{\"id\":\"8176\"},\"nonselection_glyph\":{\"id\":\"8175\"},\"selection_glyph\":{\"id\":\"8203\"},\"view\":{\"id\":\"8178\"}},\"id\":\"8177\",\"type\":\"GlyphRenderer\"},{\"attributes\":{\"data\":{\"Variable\":[\"low\",\"low\",\"low\",\"low\",\"low\",\"low\",\"low\",\"low\",\"low\",\"low\",\"low\",\"low\",\"low\",\"low\",\"low\",\"low\"],\"time\":{\"__ndarray__\":\"AACA1JGnd0IAAEA65Kd3QgAAAKA2qHdCAADABYmod0IAAIBr26h3QgAAQNEtqXdCAAAAN4Cpd0IAAMCc0ql3QgAAgAIlqndCAABAaHeqd0IAAADOyap3QgAAwDMcq3dCAACAmW6rd0IAAED/wKt3QgAAAGUTrHdCAADAymWsd0I=\",\"dtype\":\"float64\",\"order\":\"little\",\"shape\":[16]},\"value\":{\"__ndarray__\":\"uB6F61FAc0CF61G4Hm1zQClcj8L1SHFAuB6F61FAcUAK16NwPQpyQI/C9Shc63FAH4XrUbg2ckAUrkfherxwQOF6FK5HiW9Aj8L1KFyXcECuR+F6FJZvQD0K16NwxW5AhetRuB5lb0CF61G4Hi1tQIXrUbgenWpApHA9Ctcja0A=\",\"dtype\":\"float64\",\"order\":\"little\",\"shape\":[16]}},\"selected\":{\"id\":\"8205\"},\"selection_policy\":{\"id\":\"8222\"}},\"id\":\"8204\",\"type\":\"ColumnDataSource\"},{\"attributes\":{},\"id\":\"8153\",\"type\":\"PanTool\"},{\"attributes\":{\"line_alpha\":0.2,\"line_color\":\"#30a2da\",\"line_width\":2,\"x\":{\"field\":\"time\"},\"y\":{\"field\":\"value\"}},\"id\":\"8176\",\"type\":\"Line\"},{\"attributes\":{\"days\":[1,15]},\"id\":\"8195\",\"type\":\"DaysTicker\"},{\"attributes\":{\"end\":1626825600000.0,\"reset_end\":1626825600000.0,\"reset_start\":1625529600000.0,\"start\":1625529600000.0,\"tags\":[[[\"time\",\"time\",null]]]},\"id\":\"8129\",\"type\":\"Range1d\"},{\"attributes\":{\"data\":{\"Variable\":[\"open\",\"open\",\"open\",\"open\",\"open\",\"open\",\"open\",\"open\",\"open\",\"open\",\"open\",\"open\",\"open\",\"open\",\"open\",\"open\"],\"time\":{\"__ndarray__\":\"AACA1JGnd0IAAEA65Kd3QgAAAKA2qHdCAADABYmod0IAAIBr26h3QgAAQNEtqXdCAAAAN4Cpd0IAAMCc0ql3QgAAgAIlqndCAABAaHeqd0IAAADOyap3QgAAwDMcq3dCAACAmW6rd0IAAED/wKt3QgAAAGUTrHdCAADAymWsd0I=\",\"dtype\":\"float64\",\"order\":\"little\",\"shape\":[16]},\"value\":{\"__ndarray__\":\"PQrXo3BBc0ApXI/C9cxzQHsUrkfhrnNACtejcD0yckAAAAAAAPhyQIXrUbgebXJAcT0K16MIc0DD9Shcj45yQM3MzMzM9HBAZmZmZmZ2cUBSuB6F6/1wQMP1KFyPqm9AAAAAAACgb0DXo3A9CsdvQArXo3A9wm1Aw/UoXI/qa0A=\",\"dtype\":\"float64\",\"order\":\"little\",\"shape\":[16]}},\"selected\":{\"id\":\"8239\"},\"selection_policy\":{\"id\":\"8258\"}},\"id\":\"8238\",\"type\":\"ColumnDataSource\"},{\"attributes\":{},\"id\":\"8296\",\"type\":\"UnionRenderers\"},{\"attributes\":{},\"id\":\"8200\",\"type\":\"YearsTicker\"},{\"attributes\":{\"margin\":[5,5,5,5],\"name\":\"HSpacer10768\",\"sizing_mode\":\"stretch_width\"},\"id\":\"8128\",\"type\":\"Spacer\"},{\"attributes\":{},\"id\":\"8152\",\"type\":\"SaveTool\"},{\"attributes\":{},\"id\":\"8165\",\"type\":\"DatetimeTickFormatter\"},{\"attributes\":{\"mantissas\":[1,2,5],\"max_interval\":500.0,\"num_minor_ticks\":0},\"id\":\"8189\",\"type\":\"AdaptiveTicker\"},{\"attributes\":{\"axis\":{\"id\":\"8148\"},\"dimension\":1,\"grid_line_color\":null,\"ticker\":null},\"id\":\"8151\",\"type\":\"Grid\"},{\"attributes\":{\"data_source\":{\"id\":\"8238\"},\"glyph\":{\"id\":\"8241\"},\"hover_glyph\":null,\"muted_glyph\":{\"id\":\"8243\"},\"nonselection_glyph\":{\"id\":\"8242\"},\"selection_glyph\":{\"id\":\"8273\"},\"view\":{\"id\":\"8245\"}},\"id\":\"8244\",\"type\":\"GlyphRenderer\"},{\"attributes\":{},\"id\":\"8170\",\"type\":\"AllLabels\"},{\"attributes\":{\"months\":[0,1,2,3,4,5,6,7,8,9,10,11]},\"id\":\"8196\",\"type\":\"MonthsTicker\"},{\"attributes\":{\"line_color\":\"#30a2da\",\"line_width\":2,\"x\":{\"field\":\"time\"},\"y\":{\"field\":\"value\"}},\"id\":\"8174\",\"type\":\"Line\"},{\"attributes\":{\"active_multi\":null,\"tools\":[{\"id\":\"8131\"},{\"id\":\"8152\"},{\"id\":\"8153\"},{\"id\":\"8154\"},{\"id\":\"8155\"},{\"id\":\"8156\"}]},\"id\":\"8158\",\"type\":\"Toolbar\"},{\"attributes\":{},\"id\":\"8239\",\"type\":\"Selection\"},{\"attributes\":{},\"id\":\"8149\",\"type\":\"BasicTicker\"}],\"root_ids\":[\"8127\"]},\"title\":\"Bokeh Application\",\"version\":\"2.3.3\"}};\n",
       "    var render_items = [{\"docid\":\"0e5ea0ef-1d95-404d-84ce-2e99e18540aa\",\"root_ids\":[\"8127\"],\"roots\":{\"8127\":\"1c7857ad-54da-4f44-9ef0-89d67644b111\"}}];\n",
       "    root.Bokeh.embed.embed_items_notebook(docs_json, render_items);\n",
       "  }\n",
       "  if (root.Bokeh !== undefined && root.Bokeh.Panel !== undefined) {\n",
       "    embed_document(root);\n",
       "  } else {\n",
       "    var attempts = 0;\n",
       "    var timer = setInterval(function(root) {\n",
       "      if (root.Bokeh !== undefined && root.Bokeh.Panel !== undefined) {\n",
       "        clearInterval(timer);\n",
       "        embed_document(root);\n",
       "      } else if (document.readyState == \"complete\") {\n",
       "        attempts++;\n",
       "        if (attempts > 100) {\n",
       "          clearInterval(timer);\n",
       "          console.log(\"Bokeh: ERROR: Unable to run BokehJS code because BokehJS library is missing\");\n",
       "        }\n",
       "      }\n",
       "    }, 10, root)\n",
       "  }\n",
       "})(window);</script>"
      ],
      "text/plain": [
       ":NdOverlay   [Variable]\n",
       "   :Curve   [time]   (value)"
      ]
     },
     "execution_count": 115,
     "metadata": {
      "application/vnd.holoviews_exec.v0+json": {
       "id": "8127"
      }
     },
     "output_type": "execute_result"
    }
   ],
   "source": [
    "AAVE.hvplot(figsize=(10,8), title= 'AAVE')"
   ]
  },
  {
   "cell_type": "code",
   "execution_count": null,
   "id": "76cfaf0b-7e87-4fb7-b290-d674cc4949b4",
   "metadata": {},
   "outputs": [],
   "source": [
    "AAVE_DF= response['protocols'][4]\n",
    "print(f\" Blockchain is $ {AAVE_DF['blockchain']}\")\n",
    "\n",
    "print(f\" Coin Name: {AAVE_DF['name']}\")\n",
    "print(f\" Description: {AAVE_DF['description']}\")\n",
    "print(f\" Fee Description: {AAVE_DF['feeDescription']}\")\n",
    "\n",
    "\n",
    "\n",
    "\n",
    "AAVE_DF= pd.DataFrame(response['protocols'][4]['fees']).set_index('date')\n",
    "AAVE_DF.index = pd.to_datetime(AAVE_DF.index)\n",
    "#'${:, .2f}'.format to roud decimals and dollar$\n",
    "AAVE_DF['fee'] = AAVE_DF['fee'].map('${:,.2f}'.format)\n",
    "print(AAVE_DF)"
   ]
  },
  {
   "cell_type": "code",
   "execution_count": 117,
   "id": "eb88642c-f61b-4c0e-aa1d-8040ce6f200f",
   "metadata": {},
   "outputs": [],
   "source": [
    "print(\"SUSHISWAP\")\n",
    "price = cryptocompare.get_price('SUSHI', 'USD')\n",
    "print (price)\n",
    "\n",
    "SUSHI = get_crypto_price('SUSHI', 'USD', 15)\n",
    "SUSHI"
   ]
  },
  {
   "cell_type": "code",
   "execution_count": 118,
   "id": "305ff994-afe7-4ad3-9183-798f7edf8192",
   "metadata": {},
   "outputs": [],
   "source": [
    "SUSHI.hvplot(figsize=(10,8), title= 'SUSHISWAP')"
   ]
  },
  {
   "cell_type": "code",
   "execution_count": 122,
   "id": "feedb80c-8182-4ee2-b2a8-d422311cd19e",
   "metadata": {},
   "outputs": [
    {
     "name": "stdout",
     "output_type": "stream",
     "text": [
      " Blockchain is $ Ethereum\n",
      " Coin Name: SushiSwap\n",
      " Description: SushiSwap is a community-owned permissionless, decentralized exchange\n",
      " Fee Description: Trading fees are paid by traders to liquidity providers and SUSHI stakers\n",
      "                    fee\n",
      "date                   \n",
      "2021-07-20  $552,631.68\n",
      "2021-07-19  $450,623.91\n",
      "2021-07-18  $371,856.14\n",
      "2021-07-17  $467,566.50\n",
      "2021-07-16  $470,973.81\n",
      "2021-07-15  $569,627.93\n",
      "2021-07-14  $530,467.81\n"
     ]
    }
   ],
   "source": [
    "SUSHI_DF= response['protocols'][5]\n",
    "print(f\" Blockchain is $ {SUSHI_DF['blockchain']}\")\n",
    "\n",
    "print(f\" Coin Name: {SUSHI_DF['name']}\")\n",
    "print(f\" Description: {SUSHI_DF['description']}\")\n",
    "print(f\" Fee Description: {SUSHI_DF['feeDescription']}\")\n",
    "\n",
    "\n",
    "\n",
    "\n",
    "SUSHI_DF= pd.DataFrame(response['protocols'][5]['fees']).set_index('date')\n",
    "SUSHI_DF.index = pd.to_datetime(SUSHI_DF.index)\n",
    "#'${:, .2f}'.format to roud decimals and dollar$\n",
    "SUSHI_DF['fee'] = SUSHI_DF['fee'].map('${:,.2f}'.format)\n",
    "print(SUSHI_DF)"
   ]
  },
  {
   "cell_type": "code",
   "execution_count": null,
   "id": "9539a2cd-5410-46ec-a9fa-8fa04186bf07",
   "metadata": {},
   "outputs": [],
   "source": [
    "print(\"COMPOUND\")\n",
    "price = cryptocompare.get_price('COMP', 'USD')\n",
    "print (price)\n",
    "\n",
    "COMP= get_crypto_price('COMP', 'USD', 15)\n",
    "COMP"
   ]
  },
  {
   "cell_type": "code",
   "execution_count": null,
   "id": "9988fe12-9099-4c21-8ba8-edeea9d4f144",
   "metadata": {},
   "outputs": [],
   "source": [
    "COMP.hvplot(figsize=(10,8), title= 'COMPOUND')"
   ]
  },
  {
   "cell_type": "code",
   "execution_count": 129,
   "id": "22d1a914-e4c5-46e6-949e-fad7400b85f1",
   "metadata": {},
   "outputs": [
    {
     "name": "stdout",
     "output_type": "stream",
     "text": [
      " Blockchain is $ Ethereum\n",
      " Coin Name: Compound\n",
      " Description: Compound is an open borrowing & lending protocol.\n",
      " Fee Description: Interest fees are paid from borrowers to lenders.\n",
      "                    fee\n",
      "date                   \n",
      "2021-07-20  $351,213.46\n",
      "2021-07-19  $701,815.85\n",
      "2021-07-18  $335,937.08\n",
      "2021-07-17  $367,592.23\n",
      "2021-07-16  $611,683.11\n",
      "2021-07-15  $319,597.03\n",
      "2021-07-14  $320,102.07\n"
     ]
    }
   ],
   "source": [
    "COMP_DF= response['protocols'][7]\n",
    "print(f\" Blockchain is $ {COMP_DF['blockchain']}\")\n",
    "\n",
    "print(f\" Coin Name: {COMP_DF['name']}\")\n",
    "print(f\" Description: {COMP_DF['description']}\")\n",
    "print(f\" Fee Description: {COMP_DF['feeDescription']}\")\n",
    "\n",
    "\n",
    "\n",
    "\n",
    "COMP_DF= pd.DataFrame(response['protocols'][7]['fees']).set_index('date')\n",
    "COMP_DF.index = pd.to_datetime(COMP_DF.index)\n",
    "#'${:, .2f}'.format to roud decimals and dollar$\n",
    "COMP_DF['fee'] = COMP_DF['fee'].map('${:,.2f}'.format)\n",
    "print(COMP_DF)"
   ]
  },
  {
   "cell_type": "code",
   "execution_count": null,
   "id": "669d38ef-987a-401c-9b5e-b40bb3d2e071",
   "metadata": {},
   "outputs": [],
   "source": [
    "print(\"MAKERDAO\")\n",
    "price = cryptocompare.get_price('MKR', 'USD')\n",
    "print (price)\n",
    "\n",
    "MAKER= get_crypto_price('MKR', 'USD', 15)\n",
    "MAKER"
   ]
  },
  {
   "cell_type": "code",
   "execution_count": 131,
   "id": "7ad2d7d0-89eb-48c2-b574-e55614d94471",
   "metadata": {},
   "outputs": [
    {
     "data": {},
     "metadata": {},
     "output_type": "display_data"
    },
    {
     "data": {
      "application/vnd.holoviews_exec.v0+json": "",
      "text/html": [
       "<div id='9864'>\n",
       "\n",
       "\n",
       "\n",
       "\n",
       "\n",
       "  <div class=\"bk-root\" id=\"04b15362-b538-472c-aba1-d88c6e5f5203\" data-root-id=\"9864\"></div>\n",
       "</div>\n",
       "<script type=\"application/javascript\">(function(root) {\n",
       "  function embed_document(root) {\n",
       "    var docs_json = {\"9311717b-38f1-49d7-9ab7-dda68328cf45\":{\"defs\":[],\"roots\":{\"references\":[{\"attributes\":{},\"id\":\"9890\",\"type\":\"PanTool\"},{\"attributes\":{\"line_alpha\":0.1,\"line_color\":\"#e5ae38\",\"line_width\":2,\"x\":{\"field\":\"time\"},\"y\":{\"field\":\"value\"}},\"id\":\"9979\",\"type\":\"Line\"},{\"attributes\":{\"axis\":{\"id\":\"9885\"},\"dimension\":1,\"grid_line_color\":null,\"ticker\":null},\"id\":\"9888\",\"type\":\"Grid\"},{\"attributes\":{\"data_source\":{\"id\":\"9975\"},\"glyph\":{\"id\":\"9978\"},\"hover_glyph\":null,\"muted_glyph\":{\"id\":\"9980\"},\"nonselection_glyph\":{\"id\":\"9979\"},\"selection_glyph\":{\"id\":\"10010\"},\"view\":{\"id\":\"9982\"}},\"id\":\"9981\",\"type\":\"GlyphRenderer\"},{\"attributes\":{\"axis_label\":\"\",\"formatter\":{\"id\":\"9905\"},\"major_label_policy\":{\"id\":\"9907\"},\"ticker\":{\"id\":\"9886\"}},\"id\":\"9885\",\"type\":\"LinearAxis\"},{\"attributes\":{\"line_color\":\"#e5ae38\",\"line_width\":2,\"x\":{\"field\":\"time\"},\"y\":{\"field\":\"value\"}},\"id\":\"9978\",\"type\":\"Line\"},{\"attributes\":{\"children\":[{\"id\":\"9865\"},{\"id\":\"9872\"},{\"id\":\"10301\"}],\"margin\":[0,0,0,0],\"name\":\"Row13041\",\"tags\":[\"embedded\"]},\"id\":\"9864\",\"type\":\"Row\"},{\"attributes\":{},\"id\":\"9886\",\"type\":\"BasicTicker\"},{\"attributes\":{},\"id\":\"9891\",\"type\":\"WheelZoomTool\"},{\"attributes\":{},\"id\":\"9907\",\"type\":\"AllLabels\"},{\"attributes\":{\"line_alpha\":0.2,\"line_color\":\"#e5ae38\",\"line_width\":2,\"x\":{\"field\":\"time\"},\"y\":{\"field\":\"value\"}},\"id\":\"9980\",\"type\":\"Line\"},{\"attributes\":{},\"id\":\"9889\",\"type\":\"SaveTool\"},{\"attributes\":{\"source\":{\"id\":\"9975\"}},\"id\":\"9982\",\"type\":\"CDSView\"},{\"attributes\":{\"overlay\":{\"id\":\"9894\"}},\"id\":\"9892\",\"type\":\"BoxZoomTool\"},{\"attributes\":{\"margin\":[5,5,5,5],\"name\":\"HSpacer13046\",\"sizing_mode\":\"stretch_width\"},\"id\":\"10301\",\"type\":\"Spacer\"},{\"attributes\":{},\"id\":\"9893\",\"type\":\"ResetTool\"},{\"attributes\":{\"line_alpha\":0.1,\"line_color\":\"#6d904f\",\"line_width\":2,\"x\":{\"field\":\"time\"},\"y\":{\"field\":\"value\"}},\"id\":\"10015\",\"type\":\"Line\"},{\"attributes\":{\"label\":{\"value\":\"open\"},\"renderers\":[{\"id\":\"9981\"}]},\"id\":\"10009\",\"type\":\"LegendItem\"},{\"attributes\":{},\"id\":\"9905\",\"type\":\"BasicTickFormatter\"},{\"attributes\":{\"data\":{\"Variable\":[\"open\",\"open\",\"open\",\"open\",\"open\",\"open\",\"open\",\"open\",\"open\",\"open\",\"open\",\"open\",\"open\",\"open\",\"open\",\"open\"],\"time\":{\"__ndarray__\":\"AACA1JGnd0IAAEA65Kd3QgAAAKA2qHdCAADABYmod0IAAIBr26h3QgAAQNEtqXdCAAAAN4Cpd0IAAMCc0ql3QgAAgAIlqndCAABAaHeqd0IAAADOyap3QgAAwDMcq3dCAACAmW6rd0IAAED/wKt3QgAAAGUTrHdCAADAymWsd0I=\",\"dtype\":\"float64\",\"order\":\"little\",\"shape\":[16]},\"value\":{\"__ndarray__\":\"zczMzMxzpUCamZmZGXulQK5H4XqUW6ZACtejcD3ApEDD9ShcjyalQEjhehSu4aRAKVyPwnXWpEBmZmZmZlukQBSuR+H6sqNAUrgeheuho0BI4XoUrgKkQClcj8L14qJAAAAAAADsokC4HoXrUU6jQClcj8L14aFAj8L1KFwUoUA=\",\"dtype\":\"float64\",\"order\":\"little\",\"shape\":[16]}},\"selected\":{\"id\":\"9976\"},\"selection_policy\":{\"id\":\"9995\"}},\"id\":\"9975\",\"type\":\"ColumnDataSource\"},{\"attributes\":{\"data\":{\"Variable\":[\"high\",\"high\",\"high\",\"high\",\"high\",\"high\",\"high\",\"high\",\"high\",\"high\",\"high\",\"high\",\"high\",\"high\",\"high\",\"high\"],\"time\":{\"__ndarray__\":\"AACA1JGnd0IAAEA65Kd3QgAAAKA2qHdCAADABYmod0IAAIBr26h3QgAAQNEtqXdCAAAAN4Cpd0IAAMCc0ql3QgAAgAIlqndCAABAaHeqd0IAAADOyap3QgAAwDMcq3dCAACAmW6rd0IAAED/wKt3QgAAAGUTrHdCAADAymWsd0I=\",\"dtype\":\"float64\",\"order\":\"little\",\"shape\":[16]},\"value\":{\"__ndarray__\":\"UrgehWs5qEDD9Shcj/imQFK4HoXrdKZA7FG4HgUMpkA9CtejcKelQOxRuB6FOqVArkfhepRbpUDD9ShcD6SkQJqZmZkZKKRAzczMzMyIpEApXI/C9WWkQMP1KFyPPaNA7FG4HoXko0BmZmZm5lujQHE9CtcjKaJAexSuR+FSo0A=\",\"dtype\":\"float64\",\"order\":\"little\",\"shape\":[16]}},\"selected\":{\"id\":\"9909\"},\"selection_policy\":{\"id\":\"9924\"}},\"id\":\"9908\",\"type\":\"ColumnDataSource\"},{\"attributes\":{\"line_alpha\":0.1,\"line_color\":\"#30a2da\",\"line_width\":2,\"x\":{\"field\":\"time\"},\"y\":{\"field\":\"value\"}},\"id\":\"9912\",\"type\":\"Line\"},{\"attributes\":{\"data_source\":{\"id\":\"9908\"},\"glyph\":{\"id\":\"9911\"},\"hover_glyph\":null,\"muted_glyph\":{\"id\":\"9913\"},\"nonselection_glyph\":{\"id\":\"9912\"},\"selection_glyph\":{\"id\":\"9940\"},\"view\":{\"id\":\"9915\"}},\"id\":\"9914\",\"type\":\"GlyphRenderer\"},{\"attributes\":{},\"id\":\"9902\",\"type\":\"DatetimeTickFormatter\"},{\"attributes\":{},\"id\":\"9995\",\"type\":\"UnionRenderers\"},{\"attributes\":{\"bottom_units\":\"screen\",\"fill_alpha\":0.5,\"fill_color\":\"lightgrey\",\"left_units\":\"screen\",\"level\":\"overlay\",\"line_alpha\":1.0,\"line_color\":\"black\",\"line_dash\":[4,4],\"line_width\":2,\"right_units\":\"screen\",\"syncable\":false,\"top_units\":\"screen\"},\"id\":\"9894\",\"type\":\"BoxAnnotation\"},{\"attributes\":{},\"id\":\"9924\",\"type\":\"UnionRenderers\"},{\"attributes\":{\"data_source\":{\"id\":\"9941\"},\"glyph\":{\"id\":\"9944\"},\"hover_glyph\":null,\"muted_glyph\":{\"id\":\"9946\"},\"nonselection_glyph\":{\"id\":\"9945\"},\"selection_glyph\":{\"id\":\"9974\"},\"view\":{\"id\":\"9948\"}},\"id\":\"9947\",\"type\":\"GlyphRenderer\"},{\"attributes\":{\"line_alpha\":0.2,\"line_color\":\"#fc4f30\",\"line_width\":2,\"x\":{\"field\":\"time\"},\"y\":{\"field\":\"value\"}},\"id\":\"9946\",\"type\":\"Line\"},{\"attributes\":{\"line_color\":\"#30a2da\",\"line_width\":2,\"x\":{\"field\":\"time\"},\"y\":{\"field\":\"value\"}},\"id\":\"9940\",\"type\":\"Line\"},{\"attributes\":{\"label\":{\"value\":\"low\"},\"renderers\":[{\"id\":\"9947\"}]},\"id\":\"9973\",\"type\":\"LegendItem\"},{\"attributes\":{},\"id\":\"9976\",\"type\":\"Selection\"},{\"attributes\":{},\"id\":\"10012\",\"type\":\"Selection\"},{\"attributes\":{\"line_color\":\"#fc4f30\",\"line_width\":2,\"x\":{\"field\":\"time\"},\"y\":{\"field\":\"value\"}},\"id\":\"9944\",\"type\":\"Line\"},{\"attributes\":{\"data\":{\"Variable\":[\"low\",\"low\",\"low\",\"low\",\"low\",\"low\",\"low\",\"low\",\"low\",\"low\",\"low\",\"low\",\"low\",\"low\",\"low\",\"low\"],\"time\":{\"__ndarray__\":\"AACA1JGnd0IAAEA65Kd3QgAAAKA2qHdCAADABYmod0IAAIBr26h3QgAAQNEtqXdCAAAAN4Cpd0IAAMCc0ql3QgAAgAIlqndCAABAaHeqd0IAAADOyap3QgAAwDMcq3dCAACAmW6rd0IAAED/wKt3QgAAAGUTrHdCAADAymWsd0I=\",\"dtype\":\"float64\",\"order\":\"little\",\"shape\":[16]},\"value\":{\"__ndarray__\":\"KVyPwnVIpUDhehSuR16lQJqZmZkZSaRAUrgehev8o0C4HoXr0WGkQDMzMzMzcKRApHA9ClcVpEAK16NwvZCjQMP1KFyPxaJAuB6F69Eoo0AAAAAAgM6iQD0K16PwmaJAw/UoXI/MokCuR+F6FMGhQHE9CtcjgqBAhetRuJ7SoEA=\",\"dtype\":\"float64\",\"order\":\"little\",\"shape\":[16]}},\"selected\":{\"id\":\"9942\"},\"selection_policy\":{\"id\":\"9959\"}},\"id\":\"9941\",\"type\":\"ColumnDataSource\"},{\"attributes\":{\"line_alpha\":0.1,\"line_color\":\"#fc4f30\",\"line_width\":2,\"x\":{\"field\":\"time\"},\"y\":{\"field\":\"value\"}},\"id\":\"9945\",\"type\":\"Line\"},{\"attributes\":{\"source\":{\"id\":\"9941\"}},\"id\":\"9948\",\"type\":\"CDSView\"},{\"attributes\":{\"line_color\":\"#e5ae38\",\"line_width\":2,\"x\":{\"field\":\"time\"},\"y\":{\"field\":\"value\"}},\"id\":\"10010\",\"type\":\"Line\"},{\"attributes\":{\"end\":1626825600000.0,\"reset_end\":1626825600000.0,\"reset_start\":1625529600000.0,\"start\":1625529600000.0,\"tags\":[[[\"time\",\"time\",null]]]},\"id\":\"9866\",\"type\":\"Range1d\"},{\"attributes\":{\"data_source\":{\"id\":\"10011\"},\"glyph\":{\"id\":\"10014\"},\"hover_glyph\":null,\"muted_glyph\":{\"id\":\"10016\"},\"nonselection_glyph\":{\"id\":\"10015\"},\"selection_glyph\":{\"id\":\"10048\"},\"view\":{\"id\":\"10018\"}},\"id\":\"10017\",\"type\":\"GlyphRenderer\"},{\"attributes\":{\"mantissas\":[1,2,5],\"max_interval\":500.0,\"num_minor_ticks\":0},\"id\":\"9926\",\"type\":\"AdaptiveTicker\"},{\"attributes\":{\"active_multi\":null,\"tools\":[{\"id\":\"9868\"},{\"id\":\"9889\"},{\"id\":\"9890\"},{\"id\":\"9891\"},{\"id\":\"9892\"},{\"id\":\"9893\"}]},\"id\":\"9895\",\"type\":\"Toolbar\"},{\"attributes\":{\"line_color\":\"#6d904f\",\"line_width\":2,\"x\":{\"field\":\"time\"},\"y\":{\"field\":\"value\"}},\"id\":\"10014\",\"type\":\"Line\"},{\"attributes\":{\"base\":60,\"mantissas\":[1,2,5,10,15,20,30],\"max_interval\":1800000.0,\"min_interval\":1000.0,\"num_minor_ticks\":0},\"id\":\"9927\",\"type\":\"AdaptiveTicker\"},{\"attributes\":{\"days\":[1,2,3,4,5,6,7,8,9,10,11,12,13,14,15,16,17,18,19,20,21,22,23,24,25,26,27,28,29,30,31]},\"id\":\"9929\",\"type\":\"DaysTicker\"},{\"attributes\":{\"line_color\":\"#6d904f\",\"line_width\":2,\"x\":{\"field\":\"time\"},\"y\":{\"field\":\"value\"}},\"id\":\"10048\",\"type\":\"Line\"},{\"attributes\":{\"base\":24,\"mantissas\":[1,2,4,6,8,12],\"max_interval\":43200000.0,\"min_interval\":3600000.0,\"num_minor_ticks\":0},\"id\":\"9928\",\"type\":\"AdaptiveTicker\"},{\"attributes\":{\"margin\":[5,5,5,5],\"name\":\"HSpacer13045\",\"sizing_mode\":\"stretch_width\"},\"id\":\"9865\",\"type\":\"Spacer\"},{\"attributes\":{},\"id\":\"9909\",\"type\":\"Selection\"},{\"attributes\":{\"months\":[0,1,2,3,4,5,6,7,8,9,10,11]},\"id\":\"9933\",\"type\":\"MonthsTicker\"},{\"attributes\":{\"months\":[0,2,4,6,8,10]},\"id\":\"9934\",\"type\":\"MonthsTicker\"},{\"attributes\":{\"line_alpha\":0.2,\"line_color\":\"#6d904f\",\"line_width\":2,\"x\":{\"field\":\"time\"},\"y\":{\"field\":\"value\"}},\"id\":\"10016\",\"type\":\"Line\"},{\"attributes\":{\"days\":[1,4,7,10,13,16,19,22,25,28]},\"id\":\"9930\",\"type\":\"DaysTicker\"},{\"attributes\":{\"axis_label\":\"time\",\"formatter\":{\"id\":\"9902\"},\"major_label_policy\":{\"id\":\"9904\"},\"ticker\":{\"id\":\"9882\"}},\"id\":\"9881\",\"type\":\"DatetimeAxis\"},{\"attributes\":{},\"id\":\"9904\",\"type\":\"AllLabels\"},{\"attributes\":{\"days\":[1,15]},\"id\":\"9932\",\"type\":\"DaysTicker\"},{\"attributes\":{\"source\":{\"id\":\"10011\"}},\"id\":\"10018\",\"type\":\"CDSView\"},{\"attributes\":{\"months\":[0,6]},\"id\":\"9936\",\"type\":\"MonthsTicker\"},{\"attributes\":{},\"id\":\"9959\",\"type\":\"UnionRenderers\"},{\"attributes\":{\"line_color\":\"#30a2da\",\"line_width\":2,\"x\":{\"field\":\"time\"},\"y\":{\"field\":\"value\"}},\"id\":\"9911\",\"type\":\"Line\"},{\"attributes\":{\"days\":[1,8,15,22]},\"id\":\"9931\",\"type\":\"DaysTicker\"},{\"attributes\":{\"end\":3199.474,\"reset_end\":3199.474,\"reset_start\":2014.3060000000003,\"start\":2014.3060000000003,\"tags\":[[[\"value\",\"value\",null]]]},\"id\":\"9867\",\"type\":\"Range1d\"},{\"attributes\":{\"line_alpha\":0.2,\"line_color\":\"#30a2da\",\"line_width\":2,\"x\":{\"field\":\"time\"},\"y\":{\"field\":\"value\"}},\"id\":\"9913\",\"type\":\"Line\"},{\"attributes\":{},\"id\":\"9937\",\"type\":\"YearsTicker\"},{\"attributes\":{\"label\":{\"value\":\"close\"},\"renderers\":[{\"id\":\"10017\"}]},\"id\":\"10047\",\"type\":\"LegendItem\"},{\"attributes\":{\"months\":[0,4,8]},\"id\":\"9935\",\"type\":\"MonthsTicker\"},{\"attributes\":{\"label\":{\"value\":\"high\"},\"renderers\":[{\"id\":\"9914\"}]},\"id\":\"9939\",\"type\":\"LegendItem\"},{\"attributes\":{},\"id\":\"9942\",\"type\":\"Selection\"},{\"attributes\":{\"source\":{\"id\":\"9908\"}},\"id\":\"9915\",\"type\":\"CDSView\"},{\"attributes\":{},\"id\":\"10033\",\"type\":\"UnionRenderers\"},{\"attributes\":{\"click_policy\":\"mute\",\"items\":[{\"id\":\"9939\"},{\"id\":\"9973\"},{\"id\":\"10009\"},{\"id\":\"10047\"}],\"location\":[0,0],\"title\":\"Variable\"},\"id\":\"9938\",\"type\":\"Legend\"},{\"attributes\":{\"callback\":null,\"formatters\":{\"@{time}\":\"datetime\"},\"renderers\":[{\"id\":\"9914\"},{\"id\":\"9947\"},{\"id\":\"9981\"},{\"id\":\"10017\"}],\"tags\":[\"hv_created\"],\"tooltips\":[[\"Variable\",\"@{Variable}\"],[\"time\",\"@{time}{%F %T}\"],[\"value\",\"@{value}\"]]},\"id\":\"9868\",\"type\":\"HoverTool\"},{\"attributes\":{\"data\":{\"Variable\":[\"close\",\"close\",\"close\",\"close\",\"close\",\"close\",\"close\",\"close\",\"close\",\"close\",\"close\",\"close\",\"close\",\"close\",\"close\",\"close\"],\"time\":{\"__ndarray__\":\"AACA1JGnd0IAAEA65Kd3QgAAAKA2qHdCAADABYmod0IAAIBr26h3QgAAQNEtqXdCAAAAN4Cpd0IAAMCc0ql3QgAAgAIlqndCAABAaHeqd0IAAADOyap3QgAAwDMcq3dCAACAmW6rd0IAAED/wKt3QgAAAGUTrHdCAADAymWsd0I=\",\"dtype\":\"float64\",\"order\":\"little\",\"shape\":[16]},\"value\":{\"__ndarray__\":\"mpmZmRl7pUCuR+F6lFumQArXo3A9wKRAw/UoXI8mpUBI4XoUruGkQClcj8J11qRAZmZmZmZbpEAUrkfh+rKjQFK4HoXroaNASOF6FK4CpEApXI/C9eKiQAAAAAAA7KJAuB6F61FOo0ApXI/C9eGhQI/C9ShcFKFAAAAAAIBAo0A=\",\"dtype\":\"float64\",\"order\":\"little\",\"shape\":[16]}},\"selected\":{\"id\":\"10012\"},\"selection_policy\":{\"id\":\"10033\"}},\"id\":\"10011\",\"type\":\"ColumnDataSource\"},{\"attributes\":{\"text\":\"MAKERdao\",\"text_color\":\"black\",\"text_font_size\":\"12pt\"},\"id\":\"9873\",\"type\":\"Title\"},{\"attributes\":{\"below\":[{\"id\":\"9881\"}],\"center\":[{\"id\":\"9884\"},{\"id\":\"9888\"}],\"height\":300,\"left\":[{\"id\":\"9885\"}],\"margin\":[5,5,5,5],\"min_border_bottom\":10,\"min_border_left\":10,\"min_border_right\":10,\"min_border_top\":10,\"renderers\":[{\"id\":\"9914\"},{\"id\":\"9947\"},{\"id\":\"9981\"},{\"id\":\"10017\"}],\"right\":[{\"id\":\"9938\"}],\"sizing_mode\":\"fixed\",\"title\":{\"id\":\"9873\"},\"toolbar\":{\"id\":\"9895\"},\"width\":700,\"x_range\":{\"id\":\"9866\"},\"x_scale\":{\"id\":\"9877\"},\"y_range\":{\"id\":\"9867\"},\"y_scale\":{\"id\":\"9879\"}},\"id\":\"9872\",\"subtype\":\"Figure\",\"type\":\"Plot\"},{\"attributes\":{},\"id\":\"9877\",\"type\":\"LinearScale\"},{\"attributes\":{\"num_minor_ticks\":5,\"tickers\":[{\"id\":\"9926\"},{\"id\":\"9927\"},{\"id\":\"9928\"},{\"id\":\"9929\"},{\"id\":\"9930\"},{\"id\":\"9931\"},{\"id\":\"9932\"},{\"id\":\"9933\"},{\"id\":\"9934\"},{\"id\":\"9935\"},{\"id\":\"9936\"},{\"id\":\"9937\"}]},\"id\":\"9882\",\"type\":\"DatetimeTicker\"},{\"attributes\":{\"line_color\":\"#fc4f30\",\"line_width\":2,\"x\":{\"field\":\"time\"},\"y\":{\"field\":\"value\"}},\"id\":\"9974\",\"type\":\"Line\"},{\"attributes\":{\"axis\":{\"id\":\"9881\"},\"grid_line_color\":null,\"ticker\":null},\"id\":\"9884\",\"type\":\"Grid\"},{\"attributes\":{},\"id\":\"9879\",\"type\":\"LinearScale\"}],\"root_ids\":[\"9864\"]},\"title\":\"Bokeh Application\",\"version\":\"2.3.3\"}};\n",
       "    var render_items = [{\"docid\":\"9311717b-38f1-49d7-9ab7-dda68328cf45\",\"root_ids\":[\"9864\"],\"roots\":{\"9864\":\"04b15362-b538-472c-aba1-d88c6e5f5203\"}}];\n",
       "    root.Bokeh.embed.embed_items_notebook(docs_json, render_items);\n",
       "  }\n",
       "  if (root.Bokeh !== undefined && root.Bokeh.Panel !== undefined) {\n",
       "    embed_document(root);\n",
       "  } else {\n",
       "    var attempts = 0;\n",
       "    var timer = setInterval(function(root) {\n",
       "      if (root.Bokeh !== undefined && root.Bokeh.Panel !== undefined) {\n",
       "        clearInterval(timer);\n",
       "        embed_document(root);\n",
       "      } else if (document.readyState == \"complete\") {\n",
       "        attempts++;\n",
       "        if (attempts > 100) {\n",
       "          clearInterval(timer);\n",
       "          console.log(\"Bokeh: ERROR: Unable to run BokehJS code because BokehJS library is missing\");\n",
       "        }\n",
       "      }\n",
       "    }, 10, root)\n",
       "  }\n",
       "})(window);</script>"
      ],
      "text/plain": [
       ":NdOverlay   [Variable]\n",
       "   :Curve   [time]   (value)"
      ]
     },
     "execution_count": 131,
     "metadata": {
      "application/vnd.holoviews_exec.v0+json": {
       "id": "9864"
      }
     },
     "output_type": "execute_result"
    }
   ],
   "source": [
    "MAKER.hvplot(figsize=(10,8), title= 'MAKERdao')"
   ]
  },
  {
   "cell_type": "code",
   "execution_count": 137,
   "id": "a2c6cac1-9fba-4250-a4f0-82e0ffbf8199",
   "metadata": {},
   "outputs": [
    {
     "name": "stdout",
     "output_type": "stream",
     "text": [
      " Blockchain is $ Ethereum\n",
      " Coin Name: MakerDAO\n",
      " Description: MakerDAO is the protocol that issues the Dai stablecoin using loans.\n",
      " Fee Description: Stability fees are accrued by borrowers and are used to buy & burn MKR.\n"
     ]
    },
    {
     "data": {
      "text/html": [
       "<div>\n",
       "<style scoped>\n",
       "    .dataframe tbody tr th:only-of-type {\n",
       "        vertical-align: middle;\n",
       "    }\n",
       "\n",
       "    .dataframe tbody tr th {\n",
       "        vertical-align: top;\n",
       "    }\n",
       "\n",
       "    .dataframe thead th {\n",
       "        text-align: right;\n",
       "    }\n",
       "</style>\n",
       "<table border=\"1\" class=\"dataframe\">\n",
       "  <thead>\n",
       "    <tr style=\"text-align: right;\">\n",
       "      <th></th>\n",
       "      <th>fee</th>\n",
       "    </tr>\n",
       "    <tr>\n",
       "      <th>date</th>\n",
       "      <th></th>\n",
       "    </tr>\n",
       "  </thead>\n",
       "  <tbody>\n",
       "    <tr>\n",
       "      <th>2021-07-20</th>\n",
       "      <td>$99,949.20</td>\n",
       "    </tr>\n",
       "    <tr>\n",
       "      <th>2021-07-19</th>\n",
       "      <td>$101,462.61</td>\n",
       "    </tr>\n",
       "    <tr>\n",
       "      <th>2021-07-18</th>\n",
       "      <td>$102,562.53</td>\n",
       "    </tr>\n",
       "    <tr>\n",
       "      <th>2021-07-17</th>\n",
       "      <td>$177,766.88</td>\n",
       "    </tr>\n",
       "    <tr>\n",
       "      <th>2021-07-16</th>\n",
       "      <td>$177,240.86</td>\n",
       "    </tr>\n",
       "    <tr>\n",
       "      <th>2021-07-15</th>\n",
       "      <td>$176,611.16</td>\n",
       "    </tr>\n",
       "    <tr>\n",
       "      <th>2021-07-14</th>\n",
       "      <td>$176,443.95</td>\n",
       "    </tr>\n",
       "  </tbody>\n",
       "</table>\n",
       "</div>"
      ],
      "text/plain": [
       "                    fee\n",
       "date                   \n",
       "2021-07-20   $99,949.20\n",
       "2021-07-19  $101,462.61\n",
       "2021-07-18  $102,562.53\n",
       "2021-07-17  $177,766.88\n",
       "2021-07-16  $177,240.86\n",
       "2021-07-15  $176,611.16\n",
       "2021-07-14  $176,443.95"
      ]
     },
     "execution_count": 137,
     "metadata": {},
     "output_type": "execute_result"
    }
   ],
   "source": [
    "MAKER_DF= response['protocols'][11]\n",
    "print(f\" Blockchain is $ {MAKER_DF['blockchain']}\")\n",
    "\n",
    "print(f\" Coin Name: {MAKER_DF['name']}\")\n",
    "print(f\" Description: {MAKER_DF['description']}\")\n",
    "print(f\" Fee Description: {MAKER_DF['feeDescription']}\")\n",
    "\n",
    "\n",
    "\n",
    "\n",
    "MAKER_DF= pd.DataFrame(response['protocols'][11]['fees']).set_index('date')\n",
    "MAKER_DF.index = pd.to_datetime(MAKER_DF.index)\n",
    "#'${:, .2f}'.format to roud decimals and dollar$\n",
    "MAKER_DF['fee'] = MAKER_DF['fee'].map('${:,.2f}'.format)\n",
    "MAKER_DF"
   ]
  },
  {
   "cell_type": "code",
   "execution_count": 136,
   "id": "c49f6748-cead-4e96-a4a6-1259c5e13534",
   "metadata": {},
   "outputs": [],
   "source": [
    "print(\"SYNTHETIX\")\n",
    "price = cryptocompare.get_price('SNX', 'USD')\n",
    "print (price)\n",
    "\n",
    "SNX= get_crypto_price('SNX', 'USD', 15)\n",
    "SNX"
   ]
  },
  {
   "cell_type": "code",
   "execution_count": 138,
   "id": "aced72bd-8d4a-4c8c-a4d8-4eb8e518d68e",
   "metadata": {},
   "outputs": [
    {
     "name": "stdout",
     "output_type": "stream",
     "text": [
      " Blockchain is $ Ethereum\n",
      " Coin Name: Synthetix\n",
      " Description: The Synthetix Exchange is a decentralized exchange for trading synthetic assets\n",
      " Fee Description: Trading fees are paid by users to SNX stakers\n"
     ]
    },
    {
     "data": {
      "text/html": [
       "<div>\n",
       "<style scoped>\n",
       "    .dataframe tbody tr th:only-of-type {\n",
       "        vertical-align: middle;\n",
       "    }\n",
       "\n",
       "    .dataframe tbody tr th {\n",
       "        vertical-align: top;\n",
       "    }\n",
       "\n",
       "    .dataframe thead th {\n",
       "        text-align: right;\n",
       "    }\n",
       "</style>\n",
       "<table border=\"1\" class=\"dataframe\">\n",
       "  <thead>\n",
       "    <tr style=\"text-align: right;\">\n",
       "      <th></th>\n",
       "      <th>fee</th>\n",
       "    </tr>\n",
       "    <tr>\n",
       "      <th>date</th>\n",
       "      <th></th>\n",
       "    </tr>\n",
       "  </thead>\n",
       "  <tbody>\n",
       "    <tr>\n",
       "      <th>2021-07-20</th>\n",
       "      <td>$137,152.93</td>\n",
       "    </tr>\n",
       "    <tr>\n",
       "      <th>2021-07-19</th>\n",
       "      <td>$192,894.04</td>\n",
       "    </tr>\n",
       "    <tr>\n",
       "      <th>2021-07-18</th>\n",
       "      <td>$12,526.63</td>\n",
       "    </tr>\n",
       "    <tr>\n",
       "      <th>2021-07-17</th>\n",
       "      <td>$237,493.26</td>\n",
       "    </tr>\n",
       "    <tr>\n",
       "      <th>2021-07-16</th>\n",
       "      <td>$134,794.61</td>\n",
       "    </tr>\n",
       "    <tr>\n",
       "      <th>2021-07-15</th>\n",
       "      <td>$17,730.95</td>\n",
       "    </tr>\n",
       "    <tr>\n",
       "      <th>2021-07-14</th>\n",
       "      <td>$6,860.65</td>\n",
       "    </tr>\n",
       "  </tbody>\n",
       "</table>\n",
       "</div>"
      ],
      "text/plain": [
       "                    fee\n",
       "date                   \n",
       "2021-07-20  $137,152.93\n",
       "2021-07-19  $192,894.04\n",
       "2021-07-18   $12,526.63\n",
       "2021-07-17  $237,493.26\n",
       "2021-07-16  $134,794.61\n",
       "2021-07-15   $17,730.95\n",
       "2021-07-14    $6,860.65"
      ]
     },
     "execution_count": 138,
     "metadata": {},
     "output_type": "execute_result"
    }
   ],
   "source": [
    "SNX_DF= response['protocols'][10]\n",
    "print(f\" Blockchain is $ {SNX_DF['blockchain']}\")\n",
    "\n",
    "print(f\" Coin Name: {SNX_DF['name']}\")\n",
    "print(f\" Description: {SNX_DF['description']}\")\n",
    "print(f\" Fee Description: {SNX_DF['feeDescription']}\")\n",
    "SNX_DF= pd.DataFrame(response['protocols'][10]['fees']).set_index('date')\n",
    "SNX_DF.index = pd.to_datetime(SNX_DF.index)\n",
    "#'${:, .2f}'.format to roud decimals and dollar$\n",
    "SNX_DF['fee'] = SNX_DF['fee'].map('${:,.2f}'.format)\n",
    "SNX_DF"
   ]
  },
  {
   "cell_type": "code",
   "execution_count": 135,
   "id": "1e81556a-9062-435c-a107-f14e4c6d6fdb",
   "metadata": {},
   "outputs": [
    {
     "data": {},
     "metadata": {},
     "output_type": "display_data"
    },
    {
     "data": {
      "application/vnd.holoviews_exec.v0+json": "",
      "text/html": [
       "<div id='11022'>\n",
       "\n",
       "\n",
       "\n",
       "\n",
       "\n",
       "  <div class=\"bk-root\" id=\"8be480dc-2a9d-4238-80dd-c580eb60e3a4\" data-root-id=\"11022\"></div>\n",
       "</div>\n",
       "<script type=\"application/javascript\">(function(root) {\n",
       "  function embed_document(root) {\n",
       "    var docs_json = {\"0d9b24f8-7e14-4018-9f1c-d5f9b3a947b8\":{\"defs\":[],\"roots\":{\"references\":[{\"attributes\":{\"data_source\":{\"id\":\"11099\"},\"glyph\":{\"id\":\"11102\"},\"hover_glyph\":null,\"muted_glyph\":{\"id\":\"11104\"},\"nonselection_glyph\":{\"id\":\"11103\"},\"selection_glyph\":{\"id\":\"11132\"},\"view\":{\"id\":\"11106\"}},\"id\":\"11105\",\"type\":\"GlyphRenderer\"},{\"attributes\":{\"source\":{\"id\":\"11169\"}},\"id\":\"11176\",\"type\":\"CDSView\"},{\"attributes\":{},\"id\":\"11100\",\"type\":\"Selection\"},{\"attributes\":{},\"id\":\"11153\",\"type\":\"UnionRenderers\"},{\"attributes\":{},\"id\":\"11049\",\"type\":\"WheelZoomTool\"},{\"attributes\":{},\"id\":\"11095\",\"type\":\"YearsTicker\"},{\"attributes\":{\"data\":{\"Variable\":[\"high\",\"high\",\"high\",\"high\",\"high\",\"high\",\"high\",\"high\",\"high\",\"high\",\"high\",\"high\",\"high\",\"high\",\"high\",\"high\"],\"time\":{\"__ndarray__\":\"AACA1JGnd0IAAEA65Kd3QgAAAKA2qHdCAADABYmod0IAAIBr26h3QgAAQNEtqXdCAAAAN4Cpd0IAAMCc0ql3QgAAgAIlqndCAABAaHeqd0IAAADOyap3QgAAwDMcq3dCAACAmW6rd0IAAED/wKt3QgAAAGUTrHdCAADAymWsd0I=\",\"dtype\":\"float64\",\"order\":\"little\",\"shape\":[16]},\"value\":{\"__ndarray__\":\"exSuR+F6KUCuR+F6FK4nQIXrUbgehSVAw/UoXI9CKEBmZmZmZuYnQD0K16NwvSlAPQrXo3A9K0BxPQrXo3AoQLgehetROCZAFK5H4XqUJUBxPQrXo3AkQFYOLbKdbyJAWDm0yHb+IkAMAiuHFtkhQFyPwvUonCBAEFg5tMg2IUA=\",\"dtype\":\"float64\",\"order\":\"little\",\"shape\":[16]}},\"selected\":{\"id\":\"11067\"},\"selection_policy\":{\"id\":\"11082\"}},\"id\":\"11066\",\"type\":\"ColumnDataSource\"},{\"attributes\":{\"end\":1626825600000.0,\"reset_end\":1626825600000.0,\"reset_start\":1625529600000.0,\"start\":1625529600000.0,\"tags\":[[[\"time\",\"time\",null]]]},\"id\":\"11024\",\"type\":\"Range1d\"},{\"attributes\":{\"axis\":{\"id\":\"11043\"},\"dimension\":1,\"grid_line_color\":null,\"ticker\":null},\"id\":\"11046\",\"type\":\"Grid\"},{\"attributes\":{},\"id\":\"11048\",\"type\":\"PanTool\"},{\"attributes\":{\"line_color\":\"#30a2da\",\"line_width\":2,\"x\":{\"field\":\"time\"},\"y\":{\"field\":\"value\"}},\"id\":\"11098\",\"type\":\"Line\"},{\"attributes\":{\"line_color\":\"#e5ae38\",\"line_width\":2,\"x\":{\"field\":\"time\"},\"y\":{\"field\":\"value\"}},\"id\":\"11136\",\"type\":\"Line\"},{\"attributes\":{\"margin\":[5,5,5,5],\"name\":\"HSpacer14563\",\"sizing_mode\":\"stretch_width\"},\"id\":\"11023\",\"type\":\"Spacer\"},{\"attributes\":{},\"id\":\"11037\",\"type\":\"LinearScale\"},{\"attributes\":{\"line_color\":\"#fc4f30\",\"line_width\":2,\"x\":{\"field\":\"time\"},\"y\":{\"field\":\"value\"}},\"id\":\"11102\",\"type\":\"Line\"},{\"attributes\":{\"below\":[{\"id\":\"11039\"}],\"center\":[{\"id\":\"11042\"},{\"id\":\"11046\"}],\"height\":300,\"left\":[{\"id\":\"11043\"}],\"margin\":[5,5,5,5],\"min_border_bottom\":10,\"min_border_left\":10,\"min_border_right\":10,\"min_border_top\":10,\"renderers\":[{\"id\":\"11072\"},{\"id\":\"11105\"},{\"id\":\"11139\"},{\"id\":\"11175\"}],\"right\":[{\"id\":\"11096\"}],\"sizing_mode\":\"fixed\",\"title\":{\"id\":\"11031\"},\"toolbar\":{\"id\":\"11053\"},\"width\":700,\"x_range\":{\"id\":\"11024\"},\"x_scale\":{\"id\":\"11035\"},\"y_range\":{\"id\":\"11025\"},\"y_scale\":{\"id\":\"11037\"}},\"id\":\"11030\",\"subtype\":\"Figure\",\"type\":\"Plot\"},{\"attributes\":{},\"id\":\"11044\",\"type\":\"BasicTicker\"},{\"attributes\":{},\"id\":\"11051\",\"type\":\"ResetTool\"},{\"attributes\":{\"active_multi\":null,\"tools\":[{\"id\":\"11026\"},{\"id\":\"11047\"},{\"id\":\"11048\"},{\"id\":\"11049\"},{\"id\":\"11050\"},{\"id\":\"11051\"}]},\"id\":\"11053\",\"type\":\"Toolbar\"},{\"attributes\":{\"overlay\":{\"id\":\"11052\"}},\"id\":\"11050\",\"type\":\"BoxZoomTool\"},{\"attributes\":{\"axis_label\":\"time\",\"formatter\":{\"id\":\"11060\"},\"major_label_policy\":{\"id\":\"11062\"},\"ticker\":{\"id\":\"11040\"}},\"id\":\"11039\",\"type\":\"DatetimeAxis\"},{\"attributes\":{},\"id\":\"11047\",\"type\":\"SaveTool\"},{\"attributes\":{\"data_source\":{\"id\":\"11133\"},\"glyph\":{\"id\":\"11136\"},\"hover_glyph\":null,\"muted_glyph\":{\"id\":\"11138\"},\"nonselection_glyph\":{\"id\":\"11137\"},\"selection_glyph\":{\"id\":\"11168\"},\"view\":{\"id\":\"11140\"}},\"id\":\"11139\",\"type\":\"GlyphRenderer\"},{\"attributes\":{\"days\":[1,8,15,22]},\"id\":\"11089\",\"type\":\"DaysTicker\"},{\"attributes\":{\"line_alpha\":0.1,\"line_color\":\"#30a2da\",\"line_width\":2,\"x\":{\"field\":\"time\"},\"y\":{\"field\":\"value\"}},\"id\":\"11070\",\"type\":\"Line\"},{\"attributes\":{\"label\":{\"value\":\"open\"},\"renderers\":[{\"id\":\"11139\"}]},\"id\":\"11167\",\"type\":\"LegendItem\"},{\"attributes\":{\"months\":[0,6]},\"id\":\"11094\",\"type\":\"MonthsTicker\"},{\"attributes\":{\"axis\":{\"id\":\"11039\"},\"grid_line_color\":null,\"ticker\":null},\"id\":\"11042\",\"type\":\"Grid\"},{\"attributes\":{\"line_color\":\"#6d904f\",\"line_width\":2,\"x\":{\"field\":\"time\"},\"y\":{\"field\":\"value\"}},\"id\":\"11206\",\"type\":\"Line\"},{\"attributes\":{\"click_policy\":\"mute\",\"items\":[{\"id\":\"11097\"},{\"id\":\"11131\"},{\"id\":\"11167\"},{\"id\":\"11205\"}],\"location\":[0,0],\"title\":\"Variable\"},\"id\":\"11096\",\"type\":\"Legend\"},{\"attributes\":{\"children\":[{\"id\":\"11023\"},{\"id\":\"11030\"},{\"id\":\"11459\"}],\"margin\":[0,0,0,0],\"name\":\"Row14559\",\"tags\":[\"embedded\"]},\"id\":\"11022\",\"type\":\"Row\"},{\"attributes\":{\"line_color\":\"#fc4f30\",\"line_width\":2,\"x\":{\"field\":\"time\"},\"y\":{\"field\":\"value\"}},\"id\":\"11132\",\"type\":\"Line\"},{\"attributes\":{\"data\":{\"Variable\":[\"close\",\"close\",\"close\",\"close\",\"close\",\"close\",\"close\",\"close\",\"close\",\"close\",\"close\",\"close\",\"close\",\"close\",\"close\",\"close\"],\"time\":{\"__ndarray__\":\"AACA1JGnd0IAAEA65Kd3QgAAAKA2qHdCAADABYmod0IAAIBr26h3QgAAQNEtqXdCAAAAN4Cpd0IAAMCc0ql3QgAAgAIlqndCAABAaHeqd0IAAADOyap3QgAAwDMcq3dCAACAmW6rd0IAAED/wKt3QgAAAGUTrHdCAADAymWsd0I=\",\"dtype\":\"float64\",\"order\":\"little\",\"shape\":[16]},\"value\":{\"__ndarray__\":\"4XoUrkdhJkAAAAAAAIAlQJZDi2znOyNA9ihcj8L1JkAK16NwPQomQNejcD0K1yhAPQrXo3A9KED2KFyPwvUlQOxRuB6F6yRAiUFg5dAiI0Bt5/up8dIhQClcj8L1qCFAy6FFtvO9IUAUrkfhelQgQDMzMzMzMx5AVg4tsp3vIEA=\",\"dtype\":\"float64\",\"order\":\"little\",\"shape\":[16]}},\"selected\":{\"id\":\"11170\"},\"selection_policy\":{\"id\":\"11191\"}},\"id\":\"11169\",\"type\":\"ColumnDataSource\"},{\"attributes\":{\"months\":[0,4,8]},\"id\":\"11093\",\"type\":\"MonthsTicker\"},{\"attributes\":{\"line_alpha\":0.1,\"line_color\":\"#e5ae38\",\"line_width\":2,\"x\":{\"field\":\"time\"},\"y\":{\"field\":\"value\"}},\"id\":\"11137\",\"type\":\"Line\"},{\"attributes\":{\"line_color\":\"#e5ae38\",\"line_width\":2,\"x\":{\"field\":\"time\"},\"y\":{\"field\":\"value\"}},\"id\":\"11168\",\"type\":\"Line\"},{\"attributes\":{\"source\":{\"id\":\"11099\"}},\"id\":\"11106\",\"type\":\"CDSView\"},{\"attributes\":{},\"id\":\"11170\",\"type\":\"Selection\"},{\"attributes\":{\"days\":[1,4,7,10,13,16,19,22,25,28]},\"id\":\"11088\",\"type\":\"DaysTicker\"},{\"attributes\":{\"line_alpha\":0.2,\"line_color\":\"#fc4f30\",\"line_width\":2,\"x\":{\"field\":\"time\"},\"y\":{\"field\":\"value\"}},\"id\":\"11104\",\"type\":\"Line\"},{\"attributes\":{\"data\":{\"Variable\":[\"low\",\"low\",\"low\",\"low\",\"low\",\"low\",\"low\",\"low\",\"low\",\"low\",\"low\",\"low\",\"low\",\"low\",\"low\",\"low\"],\"time\":{\"__ndarray__\":\"AACA1JGnd0IAAEA65Kd3QgAAAKA2qHdCAADABYmod0IAAIBr26h3QgAAQNEtqXdCAAAAN4Cpd0IAAMCc0ql3QgAAgAIlqndCAABAaHeqd0IAAADOyap3QgAAwDMcq3dCAACAmW6rd0IAAED/wKt3QgAAAGUTrHdCAADAymWsd0I=\",\"dtype\":\"float64\",\"order\":\"little\",\"shape\":[16]},\"value\":{\"__ndarray__\":\"PQrXo3C9JEBcj8L1KFwlQH0/NV66ySJA4XoUrkdhIkD2KFyPwvUkQArXo3A9iiVAmpmZmZkZKEAfhetRuJ4lQArXo3A9CiRA8tJNYhDYIkAhsHJoka0hQIlBYOXQYiFA9P3UeOmmIUDhehSuRyEgQNV46SYxCB1AVOOlm8SgHEA=\",\"dtype\":\"float64\",\"order\":\"little\",\"shape\":[16]}},\"selected\":{\"id\":\"11100\"},\"selection_policy\":{\"id\":\"11117\"}},\"id\":\"11099\",\"type\":\"ColumnDataSource\"},{\"attributes\":{\"bottom_units\":\"screen\",\"fill_alpha\":0.5,\"fill_color\":\"lightgrey\",\"left_units\":\"screen\",\"level\":\"overlay\",\"line_alpha\":1.0,\"line_color\":\"black\",\"line_dash\":[4,4],\"line_width\":2,\"right_units\":\"screen\",\"syncable\":false,\"top_units\":\"screen\"},\"id\":\"11052\",\"type\":\"BoxAnnotation\"},{\"attributes\":{\"source\":{\"id\":\"11066\"}},\"id\":\"11073\",\"type\":\"CDSView\"},{\"attributes\":{\"line_alpha\":0.2,\"line_color\":\"#e5ae38\",\"line_width\":2,\"x\":{\"field\":\"time\"},\"y\":{\"field\":\"value\"}},\"id\":\"11138\",\"type\":\"Line\"},{\"attributes\":{\"axis_label\":\"\",\"formatter\":{\"id\":\"11063\"},\"major_label_policy\":{\"id\":\"11065\"},\"ticker\":{\"id\":\"11044\"}},\"id\":\"11043\",\"type\":\"LinearAxis\"},{\"attributes\":{},\"id\":\"11035\",\"type\":\"LinearScale\"},{\"attributes\":{\"line_color\":\"#6d904f\",\"line_width\":2,\"x\":{\"field\":\"time\"},\"y\":{\"field\":\"value\"}},\"id\":\"11172\",\"type\":\"Line\"},{\"attributes\":{\"label\":{\"value\":\"high\"},\"renderers\":[{\"id\":\"11072\"}]},\"id\":\"11097\",\"type\":\"LegendItem\"},{\"attributes\":{},\"id\":\"11191\",\"type\":\"UnionRenderers\"},{\"attributes\":{},\"id\":\"11060\",\"type\":\"DatetimeTickFormatter\"},{\"attributes\":{\"source\":{\"id\":\"11133\"}},\"id\":\"11140\",\"type\":\"CDSView\"},{\"attributes\":{\"line_alpha\":0.2,\"line_color\":\"#6d904f\",\"line_width\":2,\"x\":{\"field\":\"time\"},\"y\":{\"field\":\"value\"}},\"id\":\"11174\",\"type\":\"Line\"},{\"attributes\":{},\"id\":\"11063\",\"type\":\"BasicTickFormatter\"},{\"attributes\":{\"line_alpha\":0.1,\"line_color\":\"#fc4f30\",\"line_width\":2,\"x\":{\"field\":\"time\"},\"y\":{\"field\":\"value\"}},\"id\":\"11103\",\"type\":\"Line\"},{\"attributes\":{\"days\":[1,15]},\"id\":\"11090\",\"type\":\"DaysTicker\"},{\"attributes\":{\"data_source\":{\"id\":\"11169\"},\"glyph\":{\"id\":\"11172\"},\"hover_glyph\":null,\"muted_glyph\":{\"id\":\"11174\"},\"nonselection_glyph\":{\"id\":\"11173\"},\"selection_glyph\":{\"id\":\"11206\"},\"view\":{\"id\":\"11176\"}},\"id\":\"11175\",\"type\":\"GlyphRenderer\"},{\"attributes\":{\"days\":[1,2,3,4,5,6,7,8,9,10,11,12,13,14,15,16,17,18,19,20,21,22,23,24,25,26,27,28,29,30,31]},\"id\":\"11087\",\"type\":\"DaysTicker\"},{\"attributes\":{\"label\":{\"value\":\"close\"},\"renderers\":[{\"id\":\"11175\"}]},\"id\":\"11205\",\"type\":\"LegendItem\"},{\"attributes\":{\"line_color\":\"#30a2da\",\"line_width\":2,\"x\":{\"field\":\"time\"},\"y\":{\"field\":\"value\"}},\"id\":\"11069\",\"type\":\"Line\"},{\"attributes\":{\"data_source\":{\"id\":\"11066\"},\"glyph\":{\"id\":\"11069\"},\"hover_glyph\":null,\"muted_glyph\":{\"id\":\"11071\"},\"nonselection_glyph\":{\"id\":\"11070\"},\"selection_glyph\":{\"id\":\"11098\"},\"view\":{\"id\":\"11073\"}},\"id\":\"11072\",\"type\":\"GlyphRenderer\"},{\"attributes\":{\"callback\":null,\"formatters\":{\"@{time}\":\"datetime\"},\"renderers\":[{\"id\":\"11072\"},{\"id\":\"11105\"},{\"id\":\"11139\"},{\"id\":\"11175\"}],\"tags\":[\"hv_created\"],\"tooltips\":[[\"Variable\",\"@{Variable}\"],[\"time\",\"@{time}{%F %T}\"],[\"value\",\"@{value}\"]]},\"id\":\"11026\",\"type\":\"HoverTool\"},{\"attributes\":{},\"id\":\"11067\",\"type\":\"Selection\"},{\"attributes\":{},\"id\":\"11065\",\"type\":\"AllLabels\"},{\"attributes\":{\"end\":14.2663,\"reset_end\":14.2663,\"reset_start\":6.5107,\"start\":6.5107,\"tags\":[[[\"value\",\"value\",null]]]},\"id\":\"11025\",\"type\":\"Range1d\"},{\"attributes\":{},\"id\":\"11117\",\"type\":\"UnionRenderers\"},{\"attributes\":{},\"id\":\"11062\",\"type\":\"AllLabels\"},{\"attributes\":{},\"id\":\"11082\",\"type\":\"UnionRenderers\"},{\"attributes\":{\"data\":{\"Variable\":[\"open\",\"open\",\"open\",\"open\",\"open\",\"open\",\"open\",\"open\",\"open\",\"open\",\"open\",\"open\",\"open\",\"open\",\"open\",\"open\"],\"time\":{\"__ndarray__\":\"AACA1JGnd0IAAEA65Kd3QgAAAKA2qHdCAADABYmod0IAAIBr26h3QgAAQNEtqXdCAAAAN4Cpd0IAAMCc0ql3QgAAgAIlqndCAABAaHeqd0IAAADOyap3QgAAwDMcq3dCAACAmW6rd0IAAED/wKt3QgAAAGUTrHdCAADAymWsd0I=\",\"dtype\":\"float64\",\"order\":\"little\",\"shape\":[16]},\"value\":{\"__ndarray__\":\"rkfhehQuJUDhehSuR2EmQAAAAAAAgCVAlkOLbOc7I0D2KFyPwvUmQArXo3A9CiZA16NwPQrXKEA9CtejcD0oQPYoXI/C9SVA7FG4HoXrJECJQWDl0CIjQG3n+6nx0iFAKVyPwvWoIUDLoUW2870hQBSuR+F6VCBAMzMzMzMzHkA=\",\"dtype\":\"float64\",\"order\":\"little\",\"shape\":[16]}},\"selected\":{\"id\":\"11134\"},\"selection_policy\":{\"id\":\"11153\"}},\"id\":\"11133\",\"type\":\"ColumnDataSource\"},{\"attributes\":{\"base\":60,\"mantissas\":[1,2,5,10,15,20,30],\"max_interval\":1800000.0,\"min_interval\":1000.0,\"num_minor_ticks\":0},\"id\":\"11085\",\"type\":\"AdaptiveTicker\"},{\"attributes\":{\"num_minor_ticks\":5,\"tickers\":[{\"id\":\"11084\"},{\"id\":\"11085\"},{\"id\":\"11086\"},{\"id\":\"11087\"},{\"id\":\"11088\"},{\"id\":\"11089\"},{\"id\":\"11090\"},{\"id\":\"11091\"},{\"id\":\"11092\"},{\"id\":\"11093\"},{\"id\":\"11094\"},{\"id\":\"11095\"}]},\"id\":\"11040\",\"type\":\"DatetimeTicker\"},{\"attributes\":{\"line_alpha\":0.1,\"line_color\":\"#6d904f\",\"line_width\":2,\"x\":{\"field\":\"time\"},\"y\":{\"field\":\"value\"}},\"id\":\"11173\",\"type\":\"Line\"},{\"attributes\":{},\"id\":\"11134\",\"type\":\"Selection\"},{\"attributes\":{\"mantissas\":[1,2,5],\"max_interval\":500.0,\"num_minor_ticks\":0},\"id\":\"11084\",\"type\":\"AdaptiveTicker\"},{\"attributes\":{\"text\":\"SYNTHETIX\",\"text_color\":\"black\",\"text_font_size\":\"12pt\"},\"id\":\"11031\",\"type\":\"Title\"},{\"attributes\":{\"label\":{\"value\":\"low\"},\"renderers\":[{\"id\":\"11105\"}]},\"id\":\"11131\",\"type\":\"LegendItem\"},{\"attributes\":{\"months\":[0,1,2,3,4,5,6,7,8,9,10,11]},\"id\":\"11091\",\"type\":\"MonthsTicker\"},{\"attributes\":{\"line_alpha\":0.2,\"line_color\":\"#30a2da\",\"line_width\":2,\"x\":{\"field\":\"time\"},\"y\":{\"field\":\"value\"}},\"id\":\"11071\",\"type\":\"Line\"},{\"attributes\":{\"base\":24,\"mantissas\":[1,2,4,6,8,12],\"max_interval\":43200000.0,\"min_interval\":3600000.0,\"num_minor_ticks\":0},\"id\":\"11086\",\"type\":\"AdaptiveTicker\"},{\"attributes\":{\"months\":[0,2,4,6,8,10]},\"id\":\"11092\",\"type\":\"MonthsTicker\"},{\"attributes\":{\"margin\":[5,5,5,5],\"name\":\"HSpacer14564\",\"sizing_mode\":\"stretch_width\"},\"id\":\"11459\",\"type\":\"Spacer\"}],\"root_ids\":[\"11022\"]},\"title\":\"Bokeh Application\",\"version\":\"2.3.3\"}};\n",
       "    var render_items = [{\"docid\":\"0d9b24f8-7e14-4018-9f1c-d5f9b3a947b8\",\"root_ids\":[\"11022\"],\"roots\":{\"11022\":\"8be480dc-2a9d-4238-80dd-c580eb60e3a4\"}}];\n",
       "    root.Bokeh.embed.embed_items_notebook(docs_json, render_items);\n",
       "  }\n",
       "  if (root.Bokeh !== undefined && root.Bokeh.Panel !== undefined) {\n",
       "    embed_document(root);\n",
       "  } else {\n",
       "    var attempts = 0;\n",
       "    var timer = setInterval(function(root) {\n",
       "      if (root.Bokeh !== undefined && root.Bokeh.Panel !== undefined) {\n",
       "        clearInterval(timer);\n",
       "        embed_document(root);\n",
       "      } else if (document.readyState == \"complete\") {\n",
       "        attempts++;\n",
       "        if (attempts > 100) {\n",
       "          clearInterval(timer);\n",
       "          console.log(\"Bokeh: ERROR: Unable to run BokehJS code because BokehJS library is missing\");\n",
       "        }\n",
       "      }\n",
       "    }, 10, root)\n",
       "  }\n",
       "})(window);</script>"
      ],
      "text/plain": [
       ":NdOverlay   [Variable]\n",
       "   :Curve   [time]   (value)"
      ]
     },
     "execution_count": 135,
     "metadata": {
      "application/vnd.holoviews_exec.v0+json": {
       "id": "11022"
      }
     },
     "output_type": "execute_result"
    }
   ],
   "source": [
    "SNX.hvplot(figsize=(10,8), title= 'SYNTHETIX')"
   ]
  },
  {
   "cell_type": "code",
   "execution_count": null,
   "id": "d0c41e50-9517-4e48-86df-f1d87907fb65",
   "metadata": {},
   "outputs": [],
   "source": [
    "#CARDANO\n",
    "\n",
    "print(\"Cardano\")\n",
    "price = cryptocompare.get_price('ADA', 'USD')\n",
    "print(price)"
   ]
  },
  {
   "cell_type": "code",
   "execution_count": null,
   "id": "294fff22-105d-4411-a9da-ba7acd5c2cad",
   "metadata": {},
   "outputs": [],
   "source": [
    "ADA = get_crypto_price('ADA', 'USD', 15)\n",
    "ADA"
   ]
  },
  {
   "cell_type": "code",
   "execution_count": null,
   "id": "726fda56-55b3-412b-bdf1-18bd82d636c0",
   "metadata": {},
   "outputs": [],
   "source": [
    "ADA.hvplot(figsize=(10,8), title= 'ADA - CARDANO')"
   ]
  },
  {
   "cell_type": "code",
   "execution_count": null,
   "id": "0db70c8d-c462-4f88-a038-e68cac86a563",
   "metadata": {},
   "outputs": [],
   "source": [
    "ADA_info= response['protocols'][19]\n",
    "\n",
    "\n",
    "print(f\" Coin Name: {ADA_info['name']}\")\n",
    "print(f\" Description: {ADA_info['description']}\")\n",
    "print(f\" Fee Description: {ADA_info['feeDescription']}\")\n",
    "ADA_df= pd.DataFrame(response['protocols'][19]['fees']).set_index('date')\n",
    "ADA_df.index = pd.to_datetime(ADA_df.index)\n",
    "#'${:, .2f}'.format to roud decimals and dollar$\n",
    "ADA_df['fee'] = ADA_df['fee'].map('${:,.2f}'.format)\n",
    "print(ADA_df)"
   ]
  },
  {
   "cell_type": "code",
   "execution_count": null,
   "id": "3f9ccfd3-d055-4478-b69f-8e9d69e742bb",
   "metadata": {},
   "outputs": [],
   "source": [
    "print('DOGECOIN')\n",
    "\n",
    "price = cryptocompare.get_price('DOGE', 'USD')\n",
    "\n",
    "print(price)\n",
    "\n",
    "DOGE = get_crypto_price('DOGE', 'USD', 15)\n",
    "DOGE"
   ]
  },
  {
   "cell_type": "code",
   "execution_count": null,
   "id": "2946699c-1635-4a1f-91d4-d8057f557364",
   "metadata": {},
   "outputs": [],
   "source": [
    "DOGE.hvplot(figsize=(10,8), title= 'DOGE')"
   ]
  },
  {
   "cell_type": "code",
   "execution_count": null,
   "id": "3f3d0e6c-d901-4bbd-8954-dbcc4b887722",
   "metadata": {},
   "outputs": [],
   "source": [
    "DOGE_info= response['protocols'][20]\n",
    "\n",
    "\n",
    "print(f\" Coin Name: {DOGE_info['name']}\")\n",
    "print(f\" Description: {DOGE_info['description']}\")\n",
    "print(f\" Fee Description: {DOGE_info['feeDescription']}\")\n",
    "DOGE_df= pd.DataFrame(response['protocols'][20]['fees']).set_index('date')\n",
    "DOGE_df.index = pd.to_datetime(DOGE_df.index)\n",
    "#'${:, .2f}'.format to roud decimals and dollar$\n",
    "DOGE_df['fee'] = DOGE_df['fee'].map('${:,.2f}'.format)\n",
    "print(DOGE_df)"
   ]
  },
  {
   "cell_type": "code",
   "execution_count": null,
   "id": "259d145d-e3ad-410b-b85c-e14514b9f210",
   "metadata": {},
   "outputs": [],
   "source": [
    "print(\"SOLANA\")\n",
    "price = cryptocompare.get_price('SOL', 'USD')\n",
    "print(price)"
   ]
  },
  {
   "cell_type": "code",
   "execution_count": null,
   "id": "446d4197-878e-47c2-88dc-c59e9685b92b",
   "metadata": {},
   "outputs": [],
   "source": [
    "SOLANA = get_crypto_price('SOL', 'USD', 15)\n",
    "SOLANA"
   ]
  },
  {
   "cell_type": "code",
   "execution_count": null,
   "id": "2763e12d-308c-4a9b-bc3a-24526c6fb7e0",
   "metadata": {},
   "outputs": [],
   "source": [
    "SOLANA.hvplot(figsize=(10,8), title= 'SOLANO')"
   ]
  },
  {
   "cell_type": "code",
   "execution_count": null,
   "id": "0ff02561-3451-4a12-b1c3-11dc41ad38cb",
   "metadata": {},
   "outputs": [],
   "source": []
  },
  {
   "cell_type": "code",
   "execution_count": null,
   "id": "35b3b70a-8bb1-427e-b815-a8adb18804b6",
   "metadata": {},
   "outputs": [],
   "source": [
    "print(\"Polkadot\") "
   ]
  },
  {
   "cell_type": "code",
   "execution_count": null,
   "id": "8fa3d045-98d1-4f3d-9152-8e6dd346eefb",
   "metadata": {},
   "outputs": [],
   "source": [
    "price = cryptocompare.get_price('DOT', 'USD')\n",
    "print(price)"
   ]
  },
  {
   "cell_type": "code",
   "execution_count": null,
   "id": "0463ba0f-816c-469f-abeb-f9a445e4595b",
   "metadata": {},
   "outputs": [],
   "source": [
    "Polkadot = get_crypto_price('DOT', 'USD', 15)\n",
    "Polkadot"
   ]
  },
  {
   "cell_type": "code",
   "execution_count": null,
   "id": "3029e66a-cae0-4c11-8009-f96579568524",
   "metadata": {},
   "outputs": [],
   "source": [
    "Polkadot.hvplot(figsize=(10,8), title= 'Polkadot')"
   ]
  },
  {
   "cell_type": "code",
   "execution_count": null,
   "id": "10b57b83-9cb0-41ae-b49a-373ace16a398",
   "metadata": {},
   "outputs": [],
   "source": [
    "POLKA= response['protocols'][39]\n",
    "print(f\" Blockchain is $ {POLKA['blockchain']}\")\n",
    "\n",
    "print(f\" Coin Name: {POLKA['name']}\")\n",
    "print(f\" Description: {POLKA['description']}\")\n",
    "print(f\" Fee Description: {POLKA['feeDescription']}\")\n",
    "\n",
    "\n",
    "\n",
    "\n",
    "POLKA_df= pd.DataFrame(response['protocols'][39]['fees']).set_index('date')\n",
    "POLKA_df.index = pd.to_datetime(POLKA_df.index)\n",
    "#'${:, .2f}'.format to roud decimals and dollar$\n",
    "POLKA_df['fee'] = POLKA_df['fee'].map('${:,.2f}'.format)\n",
    "print(POLKA_df)"
   ]
  },
  {
   "cell_type": "code",
   "execution_count": null,
   "id": "37a00b88-5e86-427a-9255-c9194e9ee450",
   "metadata": {},
   "outputs": [],
   "source": []
  },
  {
   "cell_type": "code",
   "execution_count": null,
   "id": "d08c5684-4a52-4422-885f-56d4ec5c3f4e",
   "metadata": {},
   "outputs": [],
   "source": []
  }
 ],
 "metadata": {
  "kernelspec": {
   "display_name": "python (dev)",
   "language": "python",
   "name": "dev"
  },
  "language_info": {
   "codemirror_mode": {
    "name": "ipython",
    "version": 3
   },
   "file_extension": ".py",
   "mimetype": "text/x-python",
   "name": "python",
   "nbconvert_exporter": "python",
   "pygments_lexer": "ipython3",
   "version": "3.8.10"
  }
 },
 "nbformat": 4,
 "nbformat_minor": 5
}
